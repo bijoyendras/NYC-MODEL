{
  "nbformat": 4,
  "nbformat_minor": 0,
  "metadata": {
    "colab": {
      "provenance": []
    },
    "kernelspec": {
      "name": "python3",
      "display_name": "Python 3"
    },
    "language_info": {
      "name": "python"
    }
  },
  "cells": [
    {
      "cell_type": "code",
      "execution_count": null,
      "metadata": {
        "id": "3TzA9HtgVnea"
      },
      "outputs": [],
      "source": [
        "# Libraries\n",
        "import statsmodels.formula.api as sm\n",
        "import pandas as pd       #data processing\n",
        "import numpy as np        #linear algebra\n",
        "#data visualisation\n",
        "import seaborn as sns     \n",
        "sns.set()\n",
        "import matplotlib.pyplot as plt\n",
        "%matplotlib inline\n",
        "import datetime as dt\n",
        "import warnings; warnings.simplefilter('ignore')\n",
        "from sklearn.linear_model import LinearRegression\n",
        "from sklearn.ensemble import RandomForestRegressor\n",
        "from xgboost import XGBRegressor\n",
        "from sklearn import metrics\n",
        "from sklearn.model_selection import train_test_split, GridSearchCV\n",
        "#from haversine import haversine\n",
        "#import statsmodels.formula.api as sm\n",
        "from sklearn.model_selection import learning_curve\n",
        "from sklearn.model_selection import ShuffleSplit\n",
        "import warnings; warnings.simplefilter('ignore')\n",
        "from sklearn.datasets import make_blobs\n",
        "from sklearn.neighbors import KNeighborsClassifier\n",
        "from sklearn.cluster import KMeans\n",
        "from scipy.spatial.distance import cdist"
      ]
    },
    {
      "cell_type": "code",
      "source": [
        "#Importing the Dataset\n",
        "df=pd.read_csv('/content/nyc_taxi_trip_duration.csv')"
      ],
      "metadata": {
        "id": "mBySGsyCWET_"
      },
      "execution_count": null,
      "outputs": []
    },
    {
      "cell_type": "code",
      "source": [
        "np.sum(pd.isnull(df)) #checking for null values"
      ],
      "metadata": {
        "colab": {
          "base_uri": "https://localhost:8080/"
        },
        "id": "-ddMN1P9WFbH",
        "outputId": "22679526-7bb7-4857-ce3d-92d4ab3e8761"
      },
      "execution_count": null,
      "outputs": [
        {
          "output_type": "execute_result",
          "data": {
            "text/plain": [
              "id                    0\n",
              "vendor_id             0\n",
              "pickup_datetime       0\n",
              "dropoff_datetime      0\n",
              "passenger_count       0\n",
              "pickup_longitude      0\n",
              "pickup_latitude       0\n",
              "dropoff_longitude     0\n",
              "dropoff_latitude      1\n",
              "store_and_fwd_flag    1\n",
              "trip_duration         1\n",
              "dtype: int64"
            ]
          },
          "metadata": {},
          "execution_count": 3
        }
      ]
    },
    {
      "cell_type": "code",
      "source": [
        "df[df.isnull().any(axis=1)]"
      ],
      "metadata": {
        "colab": {
          "base_uri": "https://localhost:8080/"
        },
        "id": "TrmUiZqiWMBZ",
        "outputId": "57fdb2c2-4d66-495a-b154-c4a54f64a777"
      },
      "execution_count": null,
      "outputs": [
        {
          "output_type": "execute_result",
          "data": {
            "text/plain": [
              "               id  vendor_id      pickup_datetime     dropoff_datetime  \\\n",
              "289800  id1601570          1  2016-05-24 08:40:40  2016-05-24 09:15:00   \n",
              "\n",
              "        passenger_count  pickup_longitude  pickup_latitude  dropoff_longitude  \\\n",
              "289800                1        -73.983734        40.696152              -73.9   \n",
              "\n",
              "        dropoff_latitude store_and_fwd_flag  trip_duration  \n",
              "289800               NaN                NaN            NaN  "
            ],
            "text/html": [
              "\n",
              "  <div id=\"df-59f8a1e9-f296-4409-9634-b8ded14e1ae5\">\n",
              "    <div class=\"colab-df-container\">\n",
              "      <div>\n",
              "<style scoped>\n",
              "    .dataframe tbody tr th:only-of-type {\n",
              "        vertical-align: middle;\n",
              "    }\n",
              "\n",
              "    .dataframe tbody tr th {\n",
              "        vertical-align: top;\n",
              "    }\n",
              "\n",
              "    .dataframe thead th {\n",
              "        text-align: right;\n",
              "    }\n",
              "</style>\n",
              "<table border=\"1\" class=\"dataframe\">\n",
              "  <thead>\n",
              "    <tr style=\"text-align: right;\">\n",
              "      <th></th>\n",
              "      <th>id</th>\n",
              "      <th>vendor_id</th>\n",
              "      <th>pickup_datetime</th>\n",
              "      <th>dropoff_datetime</th>\n",
              "      <th>passenger_count</th>\n",
              "      <th>pickup_longitude</th>\n",
              "      <th>pickup_latitude</th>\n",
              "      <th>dropoff_longitude</th>\n",
              "      <th>dropoff_latitude</th>\n",
              "      <th>store_and_fwd_flag</th>\n",
              "      <th>trip_duration</th>\n",
              "    </tr>\n",
              "  </thead>\n",
              "  <tbody>\n",
              "    <tr>\n",
              "      <th>289800</th>\n",
              "      <td>id1601570</td>\n",
              "      <td>1</td>\n",
              "      <td>2016-05-24 08:40:40</td>\n",
              "      <td>2016-05-24 09:15:00</td>\n",
              "      <td>1</td>\n",
              "      <td>-73.983734</td>\n",
              "      <td>40.696152</td>\n",
              "      <td>-73.9</td>\n",
              "      <td>NaN</td>\n",
              "      <td>NaN</td>\n",
              "      <td>NaN</td>\n",
              "    </tr>\n",
              "  </tbody>\n",
              "</table>\n",
              "</div>\n",
              "      <button class=\"colab-df-convert\" onclick=\"convertToInteractive('df-59f8a1e9-f296-4409-9634-b8ded14e1ae5')\"\n",
              "              title=\"Convert this dataframe to an interactive table.\"\n",
              "              style=\"display:none;\">\n",
              "        \n",
              "  <svg xmlns=\"http://www.w3.org/2000/svg\" height=\"24px\"viewBox=\"0 0 24 24\"\n",
              "       width=\"24px\">\n",
              "    <path d=\"M0 0h24v24H0V0z\" fill=\"none\"/>\n",
              "    <path d=\"M18.56 5.44l.94 2.06.94-2.06 2.06-.94-2.06-.94-.94-2.06-.94 2.06-2.06.94zm-11 1L8.5 8.5l.94-2.06 2.06-.94-2.06-.94L8.5 2.5l-.94 2.06-2.06.94zm10 10l.94 2.06.94-2.06 2.06-.94-2.06-.94-.94-2.06-.94 2.06-2.06.94z\"/><path d=\"M17.41 7.96l-1.37-1.37c-.4-.4-.92-.59-1.43-.59-.52 0-1.04.2-1.43.59L10.3 9.45l-7.72 7.72c-.78.78-.78 2.05 0 2.83L4 21.41c.39.39.9.59 1.41.59.51 0 1.02-.2 1.41-.59l7.78-7.78 2.81-2.81c.8-.78.8-2.07 0-2.86zM5.41 20L4 18.59l7.72-7.72 1.47 1.35L5.41 20z\"/>\n",
              "  </svg>\n",
              "      </button>\n",
              "      \n",
              "  <style>\n",
              "    .colab-df-container {\n",
              "      display:flex;\n",
              "      flex-wrap:wrap;\n",
              "      gap: 12px;\n",
              "    }\n",
              "\n",
              "    .colab-df-convert {\n",
              "      background-color: #E8F0FE;\n",
              "      border: none;\n",
              "      border-radius: 50%;\n",
              "      cursor: pointer;\n",
              "      display: none;\n",
              "      fill: #1967D2;\n",
              "      height: 32px;\n",
              "      padding: 0 0 0 0;\n",
              "      width: 32px;\n",
              "    }\n",
              "\n",
              "    .colab-df-convert:hover {\n",
              "      background-color: #E2EBFA;\n",
              "      box-shadow: 0px 1px 2px rgba(60, 64, 67, 0.3), 0px 1px 3px 1px rgba(60, 64, 67, 0.15);\n",
              "      fill: #174EA6;\n",
              "    }\n",
              "\n",
              "    [theme=dark] .colab-df-convert {\n",
              "      background-color: #3B4455;\n",
              "      fill: #D2E3FC;\n",
              "    }\n",
              "\n",
              "    [theme=dark] .colab-df-convert:hover {\n",
              "      background-color: #434B5C;\n",
              "      box-shadow: 0px 1px 3px 1px rgba(0, 0, 0, 0.15);\n",
              "      filter: drop-shadow(0px 1px 2px rgba(0, 0, 0, 0.3));\n",
              "      fill: #FFFFFF;\n",
              "    }\n",
              "  </style>\n",
              "\n",
              "      <script>\n",
              "        const buttonEl =\n",
              "          document.querySelector('#df-59f8a1e9-f296-4409-9634-b8ded14e1ae5 button.colab-df-convert');\n",
              "        buttonEl.style.display =\n",
              "          google.colab.kernel.accessAllowed ? 'block' : 'none';\n",
              "\n",
              "        async function convertToInteractive(key) {\n",
              "          const element = document.querySelector('#df-59f8a1e9-f296-4409-9634-b8ded14e1ae5');\n",
              "          const dataTable =\n",
              "            await google.colab.kernel.invokeFunction('convertToInteractive',\n",
              "                                                     [key], {});\n",
              "          if (!dataTable) return;\n",
              "\n",
              "          const docLinkHtml = 'Like what you see? Visit the ' +\n",
              "            '<a target=\"_blank\" href=https://colab.research.google.com/notebooks/data_table.ipynb>data table notebook</a>'\n",
              "            + ' to learn more about interactive tables.';\n",
              "          element.innerHTML = '';\n",
              "          dataTable['output_type'] = 'display_data';\n",
              "          await google.colab.output.renderOutput(dataTable, element);\n",
              "          const docLink = document.createElement('div');\n",
              "          docLink.innerHTML = docLinkHtml;\n",
              "          element.appendChild(docLink);\n",
              "        }\n",
              "      </script>\n",
              "    </div>\n",
              "  </div>\n",
              "  "
            ]
          },
          "metadata": {},
          "execution_count": 4
        }
      ]
    },
    {
      "cell_type": "code",
      "source": [
        "df=df.dropna().reset_index(drop=True) #deleting the NaN row and Reset index after drop"
      ],
      "metadata": {
        "id": "WW7gFo0aWOxk"
      },
      "execution_count": null,
      "outputs": []
    },
    {
      "cell_type": "code",
      "source": [
        "np.sum(pd.isnull(df)) #Rechecking for Null Values"
      ],
      "metadata": {
        "colab": {
          "base_uri": "https://localhost:8080/"
        },
        "id": "dTNKLRDBWUaF",
        "outputId": "c53ad793-9e8f-4089-86f7-c0781657f87c"
      },
      "execution_count": null,
      "outputs": [
        {
          "output_type": "execute_result",
          "data": {
            "text/plain": [
              "id                    0\n",
              "vendor_id             0\n",
              "pickup_datetime       0\n",
              "dropoff_datetime      0\n",
              "passenger_count       0\n",
              "pickup_longitude      0\n",
              "pickup_latitude       0\n",
              "dropoff_longitude     0\n",
              "dropoff_latitude      0\n",
              "store_and_fwd_flag    0\n",
              "trip_duration         0\n",
              "dtype: int64"
            ]
          },
          "metadata": {},
          "execution_count": 6
        }
      ]
    },
    {
      "cell_type": "code",
      "source": [
        "# Encode categorical variables\n",
        "df['store_and_fwd_flag'] = df['store_and_fwd_flag'].map({'N':0,'Y':1})"
      ],
      "metadata": {
        "id": "BZA8ezVHXfKw"
      },
      "execution_count": null,
      "outputs": []
    },
    {
      "cell_type": "code",
      "source": [
        "df.head()"
      ],
      "metadata": {
        "colab": {
          "base_uri": "https://localhost:8080/"
        },
        "id": "TyaRth1qESI6",
        "outputId": "b8795426-c5ee-4ca8-81da-2f13b75ff64b"
      },
      "execution_count": null,
      "outputs": [
        {
          "output_type": "execute_result",
          "data": {
            "text/plain": [
              "          id  vendor_id      pickup_datetime     dropoff_datetime  \\\n",
              "0  id1080784          2  2016-02-29 16:40:21  2016-02-29 16:47:01   \n",
              "1  id0889885          1  2016-03-11 23:35:37  2016-03-11 23:53:57   \n",
              "2  id0857912          2  2016-02-21 17:59:33  2016-02-21 18:26:48   \n",
              "3  id3744273          2  2016-01-05 09:44:31  2016-01-05 10:03:32   \n",
              "4  id0232939          1  2016-02-17 06:42:23  2016-02-17 06:56:31   \n",
              "\n",
              "   passenger_count  pickup_longitude  pickup_latitude  dropoff_longitude  \\\n",
              "0                1        -73.953918        40.778873         -73.963875   \n",
              "1                2        -73.988312        40.731743         -73.994751   \n",
              "2                2        -73.997314        40.721458         -73.948029   \n",
              "3                6        -73.961670        40.759720         -73.956779   \n",
              "4                1        -74.017120        40.708469         -73.988182   \n",
              "\n",
              "   dropoff_latitude  store_and_fwd_flag  trip_duration  \n",
              "0         40.771164                   0          400.0  \n",
              "1         40.694931                   0         1100.0  \n",
              "2         40.774918                   0         1635.0  \n",
              "3         40.780628                   0         1141.0  \n",
              "4         40.740631                   0          848.0  "
            ],
            "text/html": [
              "\n",
              "  <div id=\"df-c349fe34-571e-4010-b509-b99dac380ff3\">\n",
              "    <div class=\"colab-df-container\">\n",
              "      <div>\n",
              "<style scoped>\n",
              "    .dataframe tbody tr th:only-of-type {\n",
              "        vertical-align: middle;\n",
              "    }\n",
              "\n",
              "    .dataframe tbody tr th {\n",
              "        vertical-align: top;\n",
              "    }\n",
              "\n",
              "    .dataframe thead th {\n",
              "        text-align: right;\n",
              "    }\n",
              "</style>\n",
              "<table border=\"1\" class=\"dataframe\">\n",
              "  <thead>\n",
              "    <tr style=\"text-align: right;\">\n",
              "      <th></th>\n",
              "      <th>id</th>\n",
              "      <th>vendor_id</th>\n",
              "      <th>pickup_datetime</th>\n",
              "      <th>dropoff_datetime</th>\n",
              "      <th>passenger_count</th>\n",
              "      <th>pickup_longitude</th>\n",
              "      <th>pickup_latitude</th>\n",
              "      <th>dropoff_longitude</th>\n",
              "      <th>dropoff_latitude</th>\n",
              "      <th>store_and_fwd_flag</th>\n",
              "      <th>trip_duration</th>\n",
              "    </tr>\n",
              "  </thead>\n",
              "  <tbody>\n",
              "    <tr>\n",
              "      <th>0</th>\n",
              "      <td>id1080784</td>\n",
              "      <td>2</td>\n",
              "      <td>2016-02-29 16:40:21</td>\n",
              "      <td>2016-02-29 16:47:01</td>\n",
              "      <td>1</td>\n",
              "      <td>-73.953918</td>\n",
              "      <td>40.778873</td>\n",
              "      <td>-73.963875</td>\n",
              "      <td>40.771164</td>\n",
              "      <td>0</td>\n",
              "      <td>400.0</td>\n",
              "    </tr>\n",
              "    <tr>\n",
              "      <th>1</th>\n",
              "      <td>id0889885</td>\n",
              "      <td>1</td>\n",
              "      <td>2016-03-11 23:35:37</td>\n",
              "      <td>2016-03-11 23:53:57</td>\n",
              "      <td>2</td>\n",
              "      <td>-73.988312</td>\n",
              "      <td>40.731743</td>\n",
              "      <td>-73.994751</td>\n",
              "      <td>40.694931</td>\n",
              "      <td>0</td>\n",
              "      <td>1100.0</td>\n",
              "    </tr>\n",
              "    <tr>\n",
              "      <th>2</th>\n",
              "      <td>id0857912</td>\n",
              "      <td>2</td>\n",
              "      <td>2016-02-21 17:59:33</td>\n",
              "      <td>2016-02-21 18:26:48</td>\n",
              "      <td>2</td>\n",
              "      <td>-73.997314</td>\n",
              "      <td>40.721458</td>\n",
              "      <td>-73.948029</td>\n",
              "      <td>40.774918</td>\n",
              "      <td>0</td>\n",
              "      <td>1635.0</td>\n",
              "    </tr>\n",
              "    <tr>\n",
              "      <th>3</th>\n",
              "      <td>id3744273</td>\n",
              "      <td>2</td>\n",
              "      <td>2016-01-05 09:44:31</td>\n",
              "      <td>2016-01-05 10:03:32</td>\n",
              "      <td>6</td>\n",
              "      <td>-73.961670</td>\n",
              "      <td>40.759720</td>\n",
              "      <td>-73.956779</td>\n",
              "      <td>40.780628</td>\n",
              "      <td>0</td>\n",
              "      <td>1141.0</td>\n",
              "    </tr>\n",
              "    <tr>\n",
              "      <th>4</th>\n",
              "      <td>id0232939</td>\n",
              "      <td>1</td>\n",
              "      <td>2016-02-17 06:42:23</td>\n",
              "      <td>2016-02-17 06:56:31</td>\n",
              "      <td>1</td>\n",
              "      <td>-74.017120</td>\n",
              "      <td>40.708469</td>\n",
              "      <td>-73.988182</td>\n",
              "      <td>40.740631</td>\n",
              "      <td>0</td>\n",
              "      <td>848.0</td>\n",
              "    </tr>\n",
              "  </tbody>\n",
              "</table>\n",
              "</div>\n",
              "      <button class=\"colab-df-convert\" onclick=\"convertToInteractive('df-c349fe34-571e-4010-b509-b99dac380ff3')\"\n",
              "              title=\"Convert this dataframe to an interactive table.\"\n",
              "              style=\"display:none;\">\n",
              "        \n",
              "  <svg xmlns=\"http://www.w3.org/2000/svg\" height=\"24px\"viewBox=\"0 0 24 24\"\n",
              "       width=\"24px\">\n",
              "    <path d=\"M0 0h24v24H0V0z\" fill=\"none\"/>\n",
              "    <path d=\"M18.56 5.44l.94 2.06.94-2.06 2.06-.94-2.06-.94-.94-2.06-.94 2.06-2.06.94zm-11 1L8.5 8.5l.94-2.06 2.06-.94-2.06-.94L8.5 2.5l-.94 2.06-2.06.94zm10 10l.94 2.06.94-2.06 2.06-.94-2.06-.94-.94-2.06-.94 2.06-2.06.94z\"/><path d=\"M17.41 7.96l-1.37-1.37c-.4-.4-.92-.59-1.43-.59-.52 0-1.04.2-1.43.59L10.3 9.45l-7.72 7.72c-.78.78-.78 2.05 0 2.83L4 21.41c.39.39.9.59 1.41.59.51 0 1.02-.2 1.41-.59l7.78-7.78 2.81-2.81c.8-.78.8-2.07 0-2.86zM5.41 20L4 18.59l7.72-7.72 1.47 1.35L5.41 20z\"/>\n",
              "  </svg>\n",
              "      </button>\n",
              "      \n",
              "  <style>\n",
              "    .colab-df-container {\n",
              "      display:flex;\n",
              "      flex-wrap:wrap;\n",
              "      gap: 12px;\n",
              "    }\n",
              "\n",
              "    .colab-df-convert {\n",
              "      background-color: #E8F0FE;\n",
              "      border: none;\n",
              "      border-radius: 50%;\n",
              "      cursor: pointer;\n",
              "      display: none;\n",
              "      fill: #1967D2;\n",
              "      height: 32px;\n",
              "      padding: 0 0 0 0;\n",
              "      width: 32px;\n",
              "    }\n",
              "\n",
              "    .colab-df-convert:hover {\n",
              "      background-color: #E2EBFA;\n",
              "      box-shadow: 0px 1px 2px rgba(60, 64, 67, 0.3), 0px 1px 3px 1px rgba(60, 64, 67, 0.15);\n",
              "      fill: #174EA6;\n",
              "    }\n",
              "\n",
              "    [theme=dark] .colab-df-convert {\n",
              "      background-color: #3B4455;\n",
              "      fill: #D2E3FC;\n",
              "    }\n",
              "\n",
              "    [theme=dark] .colab-df-convert:hover {\n",
              "      background-color: #434B5C;\n",
              "      box-shadow: 0px 1px 3px 1px rgba(0, 0, 0, 0.15);\n",
              "      filter: drop-shadow(0px 1px 2px rgba(0, 0, 0, 0.3));\n",
              "      fill: #FFFFFF;\n",
              "    }\n",
              "  </style>\n",
              "\n",
              "      <script>\n",
              "        const buttonEl =\n",
              "          document.querySelector('#df-c349fe34-571e-4010-b509-b99dac380ff3 button.colab-df-convert');\n",
              "        buttonEl.style.display =\n",
              "          google.colab.kernel.accessAllowed ? 'block' : 'none';\n",
              "\n",
              "        async function convertToInteractive(key) {\n",
              "          const element = document.querySelector('#df-c349fe34-571e-4010-b509-b99dac380ff3');\n",
              "          const dataTable =\n",
              "            await google.colab.kernel.invokeFunction('convertToInteractive',\n",
              "                                                     [key], {});\n",
              "          if (!dataTable) return;\n",
              "\n",
              "          const docLinkHtml = 'Like what you see? Visit the ' +\n",
              "            '<a target=\"_blank\" href=https://colab.research.google.com/notebooks/data_table.ipynb>data table notebook</a>'\n",
              "            + ' to learn more about interactive tables.';\n",
              "          element.innerHTML = '';\n",
              "          dataTable['output_type'] = 'display_data';\n",
              "          await google.colab.output.renderOutput(dataTable, element);\n",
              "          const docLink = document.createElement('div');\n",
              "          docLink.innerHTML = docLinkHtml;\n",
              "          element.appendChild(docLink);\n",
              "        }\n",
              "      </script>\n",
              "    </div>\n",
              "  </div>\n",
              "  "
            ]
          },
          "metadata": {},
          "execution_count": 8
        }
      ]
    },
    {
      "cell_type": "code",
      "source": [
        "df.nunique()  #Checking Unique Values in Columns"
      ],
      "metadata": {
        "colab": {
          "base_uri": "https://localhost:8080/"
        },
        "id": "MQ5K9weWQRip",
        "outputId": "2d47fd0d-a29d-405d-865a-58d9b02fc955"
      },
      "execution_count": null,
      "outputs": [
        {
          "output_type": "execute_result",
          "data": {
            "text/plain": [
              "id                    289800\n",
              "vendor_id                  2\n",
              "pickup_datetime       286606\n",
              "dropoff_datetime      286630\n",
              "passenger_count            8\n",
              "pickup_longitude       15935\n",
              "pickup_latitude        33213\n",
              "dropoff_longitude      21274\n",
              "dropoff_latitude       42203\n",
              "store_and_fwd_flag         2\n",
              "trip_duration           5130\n",
              "dtype: int64"
            ]
          },
          "metadata": {},
          "execution_count": 9
        }
      ]
    },
    {
      "cell_type": "code",
      "source": [
        "df.describe() #Statistical summary of the dataset."
      ],
      "metadata": {
        "colab": {
          "base_uri": "https://localhost:8080/"
        },
        "id": "Kdky_V23QaI9",
        "outputId": "ccec065b-151a-42d9-c144-219258244a46"
      },
      "execution_count": null,
      "outputs": [
        {
          "output_type": "execute_result",
          "data": {
            "text/plain": [
              "           vendor_id  passenger_count  pickup_longitude  pickup_latitude  \\\n",
              "count  289800.000000    289800.000000     289800.000000    289800.000000   \n",
              "mean        1.536798         1.665873        -73.973401        40.751017   \n",
              "std         0.498645         1.315431          0.041285         0.035185   \n",
              "min         1.000000         0.000000        -79.569733        40.298828   \n",
              "25%         1.000000         1.000000        -73.991821        40.737438   \n",
              "50%         2.000000         1.000000        -73.981766        40.754137   \n",
              "75%         2.000000         2.000000        -73.967346        40.768353   \n",
              "max         2.000000         7.000000        -70.511902        51.881084   \n",
              "\n",
              "       dropoff_longitude  dropoff_latitude  store_and_fwd_flag  trip_duration  \n",
              "count      289800.000000     289800.000000       289800.000000   2.898000e+05  \n",
              "mean          -73.973412         40.751808            0.005217   9.510290e+02  \n",
              "std             0.040390          0.032818            0.072043   4.721703e+03  \n",
              "min           -80.355431         40.293289            0.000000   1.000000e+00  \n",
              "25%           -73.991333         40.735928            0.000000   3.970000e+02  \n",
              "50%           -73.979790         40.754459            0.000000   6.630000e+02  \n",
              "75%           -73.963165         40.769756            0.000000   1.075000e+03  \n",
              "max           -70.511902         42.458942            1.000000   1.939736e+06  "
            ],
            "text/html": [
              "\n",
              "  <div id=\"df-c2f94d0e-67ed-4455-8431-7be2d34fa741\">\n",
              "    <div class=\"colab-df-container\">\n",
              "      <div>\n",
              "<style scoped>\n",
              "    .dataframe tbody tr th:only-of-type {\n",
              "        vertical-align: middle;\n",
              "    }\n",
              "\n",
              "    .dataframe tbody tr th {\n",
              "        vertical-align: top;\n",
              "    }\n",
              "\n",
              "    .dataframe thead th {\n",
              "        text-align: right;\n",
              "    }\n",
              "</style>\n",
              "<table border=\"1\" class=\"dataframe\">\n",
              "  <thead>\n",
              "    <tr style=\"text-align: right;\">\n",
              "      <th></th>\n",
              "      <th>vendor_id</th>\n",
              "      <th>passenger_count</th>\n",
              "      <th>pickup_longitude</th>\n",
              "      <th>pickup_latitude</th>\n",
              "      <th>dropoff_longitude</th>\n",
              "      <th>dropoff_latitude</th>\n",
              "      <th>store_and_fwd_flag</th>\n",
              "      <th>trip_duration</th>\n",
              "    </tr>\n",
              "  </thead>\n",
              "  <tbody>\n",
              "    <tr>\n",
              "      <th>count</th>\n",
              "      <td>289800.000000</td>\n",
              "      <td>289800.000000</td>\n",
              "      <td>289800.000000</td>\n",
              "      <td>289800.000000</td>\n",
              "      <td>289800.000000</td>\n",
              "      <td>289800.000000</td>\n",
              "      <td>289800.000000</td>\n",
              "      <td>2.898000e+05</td>\n",
              "    </tr>\n",
              "    <tr>\n",
              "      <th>mean</th>\n",
              "      <td>1.536798</td>\n",
              "      <td>1.665873</td>\n",
              "      <td>-73.973401</td>\n",
              "      <td>40.751017</td>\n",
              "      <td>-73.973412</td>\n",
              "      <td>40.751808</td>\n",
              "      <td>0.005217</td>\n",
              "      <td>9.510290e+02</td>\n",
              "    </tr>\n",
              "    <tr>\n",
              "      <th>std</th>\n",
              "      <td>0.498645</td>\n",
              "      <td>1.315431</td>\n",
              "      <td>0.041285</td>\n",
              "      <td>0.035185</td>\n",
              "      <td>0.040390</td>\n",
              "      <td>0.032818</td>\n",
              "      <td>0.072043</td>\n",
              "      <td>4.721703e+03</td>\n",
              "    </tr>\n",
              "    <tr>\n",
              "      <th>min</th>\n",
              "      <td>1.000000</td>\n",
              "      <td>0.000000</td>\n",
              "      <td>-79.569733</td>\n",
              "      <td>40.298828</td>\n",
              "      <td>-80.355431</td>\n",
              "      <td>40.293289</td>\n",
              "      <td>0.000000</td>\n",
              "      <td>1.000000e+00</td>\n",
              "    </tr>\n",
              "    <tr>\n",
              "      <th>25%</th>\n",
              "      <td>1.000000</td>\n",
              "      <td>1.000000</td>\n",
              "      <td>-73.991821</td>\n",
              "      <td>40.737438</td>\n",
              "      <td>-73.991333</td>\n",
              "      <td>40.735928</td>\n",
              "      <td>0.000000</td>\n",
              "      <td>3.970000e+02</td>\n",
              "    </tr>\n",
              "    <tr>\n",
              "      <th>50%</th>\n",
              "      <td>2.000000</td>\n",
              "      <td>1.000000</td>\n",
              "      <td>-73.981766</td>\n",
              "      <td>40.754137</td>\n",
              "      <td>-73.979790</td>\n",
              "      <td>40.754459</td>\n",
              "      <td>0.000000</td>\n",
              "      <td>6.630000e+02</td>\n",
              "    </tr>\n",
              "    <tr>\n",
              "      <th>75%</th>\n",
              "      <td>2.000000</td>\n",
              "      <td>2.000000</td>\n",
              "      <td>-73.967346</td>\n",
              "      <td>40.768353</td>\n",
              "      <td>-73.963165</td>\n",
              "      <td>40.769756</td>\n",
              "      <td>0.000000</td>\n",
              "      <td>1.075000e+03</td>\n",
              "    </tr>\n",
              "    <tr>\n",
              "      <th>max</th>\n",
              "      <td>2.000000</td>\n",
              "      <td>7.000000</td>\n",
              "      <td>-70.511902</td>\n",
              "      <td>51.881084</td>\n",
              "      <td>-70.511902</td>\n",
              "      <td>42.458942</td>\n",
              "      <td>1.000000</td>\n",
              "      <td>1.939736e+06</td>\n",
              "    </tr>\n",
              "  </tbody>\n",
              "</table>\n",
              "</div>\n",
              "      <button class=\"colab-df-convert\" onclick=\"convertToInteractive('df-c2f94d0e-67ed-4455-8431-7be2d34fa741')\"\n",
              "              title=\"Convert this dataframe to an interactive table.\"\n",
              "              style=\"display:none;\">\n",
              "        \n",
              "  <svg xmlns=\"http://www.w3.org/2000/svg\" height=\"24px\"viewBox=\"0 0 24 24\"\n",
              "       width=\"24px\">\n",
              "    <path d=\"M0 0h24v24H0V0z\" fill=\"none\"/>\n",
              "    <path d=\"M18.56 5.44l.94 2.06.94-2.06 2.06-.94-2.06-.94-.94-2.06-.94 2.06-2.06.94zm-11 1L8.5 8.5l.94-2.06 2.06-.94-2.06-.94L8.5 2.5l-.94 2.06-2.06.94zm10 10l.94 2.06.94-2.06 2.06-.94-2.06-.94-.94-2.06-.94 2.06-2.06.94z\"/><path d=\"M17.41 7.96l-1.37-1.37c-.4-.4-.92-.59-1.43-.59-.52 0-1.04.2-1.43.59L10.3 9.45l-7.72 7.72c-.78.78-.78 2.05 0 2.83L4 21.41c.39.39.9.59 1.41.59.51 0 1.02-.2 1.41-.59l7.78-7.78 2.81-2.81c.8-.78.8-2.07 0-2.86zM5.41 20L4 18.59l7.72-7.72 1.47 1.35L5.41 20z\"/>\n",
              "  </svg>\n",
              "      </button>\n",
              "      \n",
              "  <style>\n",
              "    .colab-df-container {\n",
              "      display:flex;\n",
              "      flex-wrap:wrap;\n",
              "      gap: 12px;\n",
              "    }\n",
              "\n",
              "    .colab-df-convert {\n",
              "      background-color: #E8F0FE;\n",
              "      border: none;\n",
              "      border-radius: 50%;\n",
              "      cursor: pointer;\n",
              "      display: none;\n",
              "      fill: #1967D2;\n",
              "      height: 32px;\n",
              "      padding: 0 0 0 0;\n",
              "      width: 32px;\n",
              "    }\n",
              "\n",
              "    .colab-df-convert:hover {\n",
              "      background-color: #E2EBFA;\n",
              "      box-shadow: 0px 1px 2px rgba(60, 64, 67, 0.3), 0px 1px 3px 1px rgba(60, 64, 67, 0.15);\n",
              "      fill: #174EA6;\n",
              "    }\n",
              "\n",
              "    [theme=dark] .colab-df-convert {\n",
              "      background-color: #3B4455;\n",
              "      fill: #D2E3FC;\n",
              "    }\n",
              "\n",
              "    [theme=dark] .colab-df-convert:hover {\n",
              "      background-color: #434B5C;\n",
              "      box-shadow: 0px 1px 3px 1px rgba(0, 0, 0, 0.15);\n",
              "      filter: drop-shadow(0px 1px 2px rgba(0, 0, 0, 0.3));\n",
              "      fill: #FFFFFF;\n",
              "    }\n",
              "  </style>\n",
              "\n",
              "      <script>\n",
              "        const buttonEl =\n",
              "          document.querySelector('#df-c2f94d0e-67ed-4455-8431-7be2d34fa741 button.colab-df-convert');\n",
              "        buttonEl.style.display =\n",
              "          google.colab.kernel.accessAllowed ? 'block' : 'none';\n",
              "\n",
              "        async function convertToInteractive(key) {\n",
              "          const element = document.querySelector('#df-c2f94d0e-67ed-4455-8431-7be2d34fa741');\n",
              "          const dataTable =\n",
              "            await google.colab.kernel.invokeFunction('convertToInteractive',\n",
              "                                                     [key], {});\n",
              "          if (!dataTable) return;\n",
              "\n",
              "          const docLinkHtml = 'Like what you see? Visit the ' +\n",
              "            '<a target=\"_blank\" href=https://colab.research.google.com/notebooks/data_table.ipynb>data table notebook</a>'\n",
              "            + ' to learn more about interactive tables.';\n",
              "          element.innerHTML = '';\n",
              "          dataTable['output_type'] = 'display_data';\n",
              "          await google.colab.output.renderOutput(dataTable, element);\n",
              "          const docLink = document.createElement('div');\n",
              "          docLink.innerHTML = docLinkHtml;\n",
              "          element.appendChild(docLink);\n",
              "        }\n",
              "      </script>\n",
              "    </div>\n",
              "  </div>\n",
              "  "
            ]
          },
          "metadata": {},
          "execution_count": 10
        }
      ]
    },
    {
      "cell_type": "markdown",
      "source": [
        "NEW FEATURE CREATION"
      ],
      "metadata": {
        "id": "zdMuGzF0Qfcv"
      }
    },
    {
      "cell_type": "code",
      "source": [],
      "metadata": {
        "id": "fbROMGRqUwea"
      },
      "execution_count": null,
      "outputs": []
    },
    {
      "cell_type": "markdown",
      "source": [
        "DAY,HOUR, WEEKDAY, MONTH"
      ],
      "metadata": {
        "id": "-060Rp6hUkF-"
      }
    },
    {
      "cell_type": "markdown",
      "source": [
        "Pandas To Datetime (.to_datetime()) will convert your string representation of a date to an actual date format. "
      ],
      "metadata": {
        "id": "hwXoFxBSUvWP"
      }
    },
    {
      "cell_type": "markdown",
      "source": [
        "AGE CALCULATION\n",
        "EG today = pd.to_datetime('today')\n",
        "df['age'] = today.year - df['DoB'].dt.year\n",
        "df"
      ],
      "metadata": {
        "id": "j5XCxspLVh6C"
      }
    },
    {
      "cell_type": "code",
      "source": [
        "df['pickup_datetime']=pd.to_datetime(df['pickup_datetime'])\n",
        "df['dropoff_datetime']=pd.to_datetime(df['dropoff_datetime'])\n",
        "\n",
        "df['pickup_day']=df['pickup_datetime'].dt.day_name() #Day by Name\n",
        "df['dropoff_day']=df['dropoff_datetime'].dt.day_name()#Day by Name\n",
        "df['pickup_day_no']=df['pickup_datetime'].dt.weekday #Days in Number\n",
        "df['dropoff_day_no']=df['dropoff_datetime'].dt.weekday#Days in Number\n",
        "df['pickup_hour']=df['pickup_datetime'].dt.hour #24 Hours Format\n",
        "df['dropoff_hour']=df['dropoff_datetime'].dt.hour#24 Hours Format\n",
        "df['pickup_month']=df['pickup_datetime'].dt.month #Month in Numbers\n",
        "df['dropoff_month']=df['dropoff_datetime'].dt.month#Month in Numbers\n"
      ],
      "metadata": {
        "id": "NLIPiKpVQh9g"
      },
      "execution_count": null,
      "outputs": []
    },
    {
      "cell_type": "markdown",
      "source": [
        "DIVIDING DAY INTO MORNING, AFTERNOON, EVENING, LATE NIGHT"
      ],
      "metadata": {
        "id": "z8Q5OfgFRedq"
      }
    },
    {
      "cell_type": "code",
      "source": [
        "def time_of_day(x): #defining a function\n",
        "    if x in range(6,12):\n",
        "        return 'Morning'\n",
        "    elif x in range(12,16):\n",
        "        return 'Afternoon'\n",
        "    elif x in range(16,22):\n",
        "        return 'Evening'\n",
        "    else:\n",
        "        return 'Late night'"
      ],
      "metadata": {
        "id": "_lVs0sa8RdLG"
      },
      "execution_count": null,
      "outputs": []
    },
    {
      "cell_type": "code",
      "source": [
        "df['pickup_timeofday']=df['pickup_hour'].apply(time_of_day) #Creating Coulum pickup_timeofday\n",
        "df['dropoff_timeofday']=df['dropoff_hour'].apply(time_of_day) #Creating Coulum dropoff_timeofday"
      ],
      "metadata": {
        "id": "DcWaaDYIRw0e"
      },
      "execution_count": null,
      "outputs": []
    },
    {
      "cell_type": "markdown",
      "source": [
        "DISTANCE USING GEOPY, GREAT CIRCLE\n",
        "\n",
        "OTHERS FORMULA THAT CAN BE USED\n",
        "The great circle distance.\n",
        "Haversine formula.\n",
        "Vincenty formula."
      ],
      "metadata": {
        "id": "-Lhixl3KRzwC"
      }
    },
    {
      "cell_type": "code",
      "source": [
        "from geopy.distance import great_circle # Importing library for calculating distance from geographical coordinates.\n",
        "\n",
        "def cal_distance(pickup_lat,pickup_long,dropoff_lat,dropoff_long): #Defining a function to take coordinates as inputs and return us distance.\n",
        " \n",
        " start_coordinates=(pickup_lat,pickup_long)\n",
        " stop_coordinates=(dropoff_lat,dropoff_long)\n",
        " \n",
        " return great_circle(start_coordinates,stop_coordinates).km\n",
        "#Creating the feature ‘distance’.\n",
        "df['distance'] = df.apply(lambda x: cal_distance(x['pickup_latitude'],x['pickup_longitude'],x['dropoff_latitude'],x['dropoff_longitude'] ), axis=1)"
      ],
      "metadata": {
        "id": "5-b_gbKISABK"
      },
      "execution_count": null,
      "outputs": []
    },
    {
      "cell_type": "markdown",
      "source": [
        "SPEED"
      ],
      "metadata": {
        "id": "sepdF46fWTnO"
      }
    },
    {
      "cell_type": "code",
      "source": [
        "#Calculate Speed in km/h for further insights\n",
        "df['speed'] = (df.distance/(df.trip_duration/3600))"
      ],
      "metadata": {
        "id": "0E0ZCqN5Wa3d"
      },
      "execution_count": null,
      "outputs": []
    },
    {
      "cell_type": "markdown",
      "source": [
        "DATA STRUCTURE"
      ],
      "metadata": {
        "id": "q88Akx-gQsdf"
      }
    },
    {
      "cell_type": "code",
      "source": [
        "df.head()"
      ],
      "metadata": {
        "colab": {
          "base_uri": "https://localhost:8080/"
        },
        "id": "z-fKHuSwQq0n",
        "outputId": "88465e0e-9487-460c-8b5c-e534512ac653"
      },
      "execution_count": null,
      "outputs": [
        {
          "output_type": "execute_result",
          "data": {
            "text/plain": [
              "          id  vendor_id     pickup_datetime    dropoff_datetime  \\\n",
              "0  id1080784          2 2016-02-29 16:40:21 2016-02-29 16:47:01   \n",
              "1  id0889885          1 2016-03-11 23:35:37 2016-03-11 23:53:57   \n",
              "2  id0857912          2 2016-02-21 17:59:33 2016-02-21 18:26:48   \n",
              "3  id3744273          2 2016-01-05 09:44:31 2016-01-05 10:03:32   \n",
              "4  id0232939          1 2016-02-17 06:42:23 2016-02-17 06:56:31   \n",
              "\n",
              "   passenger_count  pickup_longitude  pickup_latitude  dropoff_longitude  \\\n",
              "0                1        -73.953918        40.778873         -73.963875   \n",
              "1                2        -73.988312        40.731743         -73.994751   \n",
              "2                2        -73.997314        40.721458         -73.948029   \n",
              "3                6        -73.961670        40.759720         -73.956779   \n",
              "4                1        -74.017120        40.708469         -73.988182   \n",
              "\n",
              "   dropoff_latitude  store_and_fwd_flag  ...  pickup_day_no dropoff_day_no  \\\n",
              "0         40.771164                   0  ...              0              0   \n",
              "1         40.694931                   0  ...              4              4   \n",
              "2         40.774918                   0  ...              6              6   \n",
              "3         40.780628                   0  ...              1              1   \n",
              "4         40.740631                   0  ...              2              2   \n",
              "\n",
              "  pickup_hour  dropoff_hour  pickup_month  dropoff_month  pickup_timeofday  \\\n",
              "0          16            16             2              2           Evening   \n",
              "1          23            23             3              3        Late night   \n",
              "2          17            18             2              2           Evening   \n",
              "3           9            10             1              1           Morning   \n",
              "4           6             6             2              2           Morning   \n",
              "\n",
              "   dropoff_timeofday  distance      speed  \n",
              "0            Evening  1.199074  10.791669  \n",
              "1         Late night  4.129117  13.513473  \n",
              "2            Evening  7.250763  15.964983  \n",
              "3            Morning  2.361101   7.449573  \n",
              "4            Morning  4.328540  18.375877  \n",
              "\n",
              "[5 rows x 23 columns]"
            ],
            "text/html": [
              "\n",
              "  <div id=\"df-8ee86feb-1d31-4028-84a8-cfaa8a0d8f2d\">\n",
              "    <div class=\"colab-df-container\">\n",
              "      <div>\n",
              "<style scoped>\n",
              "    .dataframe tbody tr th:only-of-type {\n",
              "        vertical-align: middle;\n",
              "    }\n",
              "\n",
              "    .dataframe tbody tr th {\n",
              "        vertical-align: top;\n",
              "    }\n",
              "\n",
              "    .dataframe thead th {\n",
              "        text-align: right;\n",
              "    }\n",
              "</style>\n",
              "<table border=\"1\" class=\"dataframe\">\n",
              "  <thead>\n",
              "    <tr style=\"text-align: right;\">\n",
              "      <th></th>\n",
              "      <th>id</th>\n",
              "      <th>vendor_id</th>\n",
              "      <th>pickup_datetime</th>\n",
              "      <th>dropoff_datetime</th>\n",
              "      <th>passenger_count</th>\n",
              "      <th>pickup_longitude</th>\n",
              "      <th>pickup_latitude</th>\n",
              "      <th>dropoff_longitude</th>\n",
              "      <th>dropoff_latitude</th>\n",
              "      <th>store_and_fwd_flag</th>\n",
              "      <th>...</th>\n",
              "      <th>pickup_day_no</th>\n",
              "      <th>dropoff_day_no</th>\n",
              "      <th>pickup_hour</th>\n",
              "      <th>dropoff_hour</th>\n",
              "      <th>pickup_month</th>\n",
              "      <th>dropoff_month</th>\n",
              "      <th>pickup_timeofday</th>\n",
              "      <th>dropoff_timeofday</th>\n",
              "      <th>distance</th>\n",
              "      <th>speed</th>\n",
              "    </tr>\n",
              "  </thead>\n",
              "  <tbody>\n",
              "    <tr>\n",
              "      <th>0</th>\n",
              "      <td>id1080784</td>\n",
              "      <td>2</td>\n",
              "      <td>2016-02-29 16:40:21</td>\n",
              "      <td>2016-02-29 16:47:01</td>\n",
              "      <td>1</td>\n",
              "      <td>-73.953918</td>\n",
              "      <td>40.778873</td>\n",
              "      <td>-73.963875</td>\n",
              "      <td>40.771164</td>\n",
              "      <td>0</td>\n",
              "      <td>...</td>\n",
              "      <td>0</td>\n",
              "      <td>0</td>\n",
              "      <td>16</td>\n",
              "      <td>16</td>\n",
              "      <td>2</td>\n",
              "      <td>2</td>\n",
              "      <td>Evening</td>\n",
              "      <td>Evening</td>\n",
              "      <td>1.199074</td>\n",
              "      <td>10.791669</td>\n",
              "    </tr>\n",
              "    <tr>\n",
              "      <th>1</th>\n",
              "      <td>id0889885</td>\n",
              "      <td>1</td>\n",
              "      <td>2016-03-11 23:35:37</td>\n",
              "      <td>2016-03-11 23:53:57</td>\n",
              "      <td>2</td>\n",
              "      <td>-73.988312</td>\n",
              "      <td>40.731743</td>\n",
              "      <td>-73.994751</td>\n",
              "      <td>40.694931</td>\n",
              "      <td>0</td>\n",
              "      <td>...</td>\n",
              "      <td>4</td>\n",
              "      <td>4</td>\n",
              "      <td>23</td>\n",
              "      <td>23</td>\n",
              "      <td>3</td>\n",
              "      <td>3</td>\n",
              "      <td>Late night</td>\n",
              "      <td>Late night</td>\n",
              "      <td>4.129117</td>\n",
              "      <td>13.513473</td>\n",
              "    </tr>\n",
              "    <tr>\n",
              "      <th>2</th>\n",
              "      <td>id0857912</td>\n",
              "      <td>2</td>\n",
              "      <td>2016-02-21 17:59:33</td>\n",
              "      <td>2016-02-21 18:26:48</td>\n",
              "      <td>2</td>\n",
              "      <td>-73.997314</td>\n",
              "      <td>40.721458</td>\n",
              "      <td>-73.948029</td>\n",
              "      <td>40.774918</td>\n",
              "      <td>0</td>\n",
              "      <td>...</td>\n",
              "      <td>6</td>\n",
              "      <td>6</td>\n",
              "      <td>17</td>\n",
              "      <td>18</td>\n",
              "      <td>2</td>\n",
              "      <td>2</td>\n",
              "      <td>Evening</td>\n",
              "      <td>Evening</td>\n",
              "      <td>7.250763</td>\n",
              "      <td>15.964983</td>\n",
              "    </tr>\n",
              "    <tr>\n",
              "      <th>3</th>\n",
              "      <td>id3744273</td>\n",
              "      <td>2</td>\n",
              "      <td>2016-01-05 09:44:31</td>\n",
              "      <td>2016-01-05 10:03:32</td>\n",
              "      <td>6</td>\n",
              "      <td>-73.961670</td>\n",
              "      <td>40.759720</td>\n",
              "      <td>-73.956779</td>\n",
              "      <td>40.780628</td>\n",
              "      <td>0</td>\n",
              "      <td>...</td>\n",
              "      <td>1</td>\n",
              "      <td>1</td>\n",
              "      <td>9</td>\n",
              "      <td>10</td>\n",
              "      <td>1</td>\n",
              "      <td>1</td>\n",
              "      <td>Morning</td>\n",
              "      <td>Morning</td>\n",
              "      <td>2.361101</td>\n",
              "      <td>7.449573</td>\n",
              "    </tr>\n",
              "    <tr>\n",
              "      <th>4</th>\n",
              "      <td>id0232939</td>\n",
              "      <td>1</td>\n",
              "      <td>2016-02-17 06:42:23</td>\n",
              "      <td>2016-02-17 06:56:31</td>\n",
              "      <td>1</td>\n",
              "      <td>-74.017120</td>\n",
              "      <td>40.708469</td>\n",
              "      <td>-73.988182</td>\n",
              "      <td>40.740631</td>\n",
              "      <td>0</td>\n",
              "      <td>...</td>\n",
              "      <td>2</td>\n",
              "      <td>2</td>\n",
              "      <td>6</td>\n",
              "      <td>6</td>\n",
              "      <td>2</td>\n",
              "      <td>2</td>\n",
              "      <td>Morning</td>\n",
              "      <td>Morning</td>\n",
              "      <td>4.328540</td>\n",
              "      <td>18.375877</td>\n",
              "    </tr>\n",
              "  </tbody>\n",
              "</table>\n",
              "<p>5 rows × 23 columns</p>\n",
              "</div>\n",
              "      <button class=\"colab-df-convert\" onclick=\"convertToInteractive('df-8ee86feb-1d31-4028-84a8-cfaa8a0d8f2d')\"\n",
              "              title=\"Convert this dataframe to an interactive table.\"\n",
              "              style=\"display:none;\">\n",
              "        \n",
              "  <svg xmlns=\"http://www.w3.org/2000/svg\" height=\"24px\"viewBox=\"0 0 24 24\"\n",
              "       width=\"24px\">\n",
              "    <path d=\"M0 0h24v24H0V0z\" fill=\"none\"/>\n",
              "    <path d=\"M18.56 5.44l.94 2.06.94-2.06 2.06-.94-2.06-.94-.94-2.06-.94 2.06-2.06.94zm-11 1L8.5 8.5l.94-2.06 2.06-.94-2.06-.94L8.5 2.5l-.94 2.06-2.06.94zm10 10l.94 2.06.94-2.06 2.06-.94-2.06-.94-.94-2.06-.94 2.06-2.06.94z\"/><path d=\"M17.41 7.96l-1.37-1.37c-.4-.4-.92-.59-1.43-.59-.52 0-1.04.2-1.43.59L10.3 9.45l-7.72 7.72c-.78.78-.78 2.05 0 2.83L4 21.41c.39.39.9.59 1.41.59.51 0 1.02-.2 1.41-.59l7.78-7.78 2.81-2.81c.8-.78.8-2.07 0-2.86zM5.41 20L4 18.59l7.72-7.72 1.47 1.35L5.41 20z\"/>\n",
              "  </svg>\n",
              "      </button>\n",
              "      \n",
              "  <style>\n",
              "    .colab-df-container {\n",
              "      display:flex;\n",
              "      flex-wrap:wrap;\n",
              "      gap: 12px;\n",
              "    }\n",
              "\n",
              "    .colab-df-convert {\n",
              "      background-color: #E8F0FE;\n",
              "      border: none;\n",
              "      border-radius: 50%;\n",
              "      cursor: pointer;\n",
              "      display: none;\n",
              "      fill: #1967D2;\n",
              "      height: 32px;\n",
              "      padding: 0 0 0 0;\n",
              "      width: 32px;\n",
              "    }\n",
              "\n",
              "    .colab-df-convert:hover {\n",
              "      background-color: #E2EBFA;\n",
              "      box-shadow: 0px 1px 2px rgba(60, 64, 67, 0.3), 0px 1px 3px 1px rgba(60, 64, 67, 0.15);\n",
              "      fill: #174EA6;\n",
              "    }\n",
              "\n",
              "    [theme=dark] .colab-df-convert {\n",
              "      background-color: #3B4455;\n",
              "      fill: #D2E3FC;\n",
              "    }\n",
              "\n",
              "    [theme=dark] .colab-df-convert:hover {\n",
              "      background-color: #434B5C;\n",
              "      box-shadow: 0px 1px 3px 1px rgba(0, 0, 0, 0.15);\n",
              "      filter: drop-shadow(0px 1px 2px rgba(0, 0, 0, 0.3));\n",
              "      fill: #FFFFFF;\n",
              "    }\n",
              "  </style>\n",
              "\n",
              "      <script>\n",
              "        const buttonEl =\n",
              "          document.querySelector('#df-8ee86feb-1d31-4028-84a8-cfaa8a0d8f2d button.colab-df-convert');\n",
              "        buttonEl.style.display =\n",
              "          google.colab.kernel.accessAllowed ? 'block' : 'none';\n",
              "\n",
              "        async function convertToInteractive(key) {\n",
              "          const element = document.querySelector('#df-8ee86feb-1d31-4028-84a8-cfaa8a0d8f2d');\n",
              "          const dataTable =\n",
              "            await google.colab.kernel.invokeFunction('convertToInteractive',\n",
              "                                                     [key], {});\n",
              "          if (!dataTable) return;\n",
              "\n",
              "          const docLinkHtml = 'Like what you see? Visit the ' +\n",
              "            '<a target=\"_blank\" href=https://colab.research.google.com/notebooks/data_table.ipynb>data table notebook</a>'\n",
              "            + ' to learn more about interactive tables.';\n",
              "          element.innerHTML = '';\n",
              "          dataTable['output_type'] = 'display_data';\n",
              "          await google.colab.output.renderOutput(dataTable, element);\n",
              "          const docLink = document.createElement('div');\n",
              "          docLink.innerHTML = docLinkHtml;\n",
              "          element.appendChild(docLink);\n",
              "        }\n",
              "      </script>\n",
              "    </div>\n",
              "  </div>\n",
              "  "
            ]
          },
          "metadata": {},
          "execution_count": 16
        }
      ]
    },
    {
      "cell_type": "code",
      "source": [
        "df.info()"
      ],
      "metadata": {
        "colab": {
          "base_uri": "https://localhost:8080/"
        },
        "id": "s8n3wxqtxZ5L",
        "outputId": "db937c62-bca4-4ae5-943e-2accb68d11b1"
      },
      "execution_count": null,
      "outputs": [
        {
          "output_type": "stream",
          "name": "stdout",
          "text": [
            "<class 'pandas.core.frame.DataFrame'>\n",
            "RangeIndex: 289800 entries, 0 to 289799\n",
            "Data columns (total 23 columns):\n",
            " #   Column              Non-Null Count   Dtype         \n",
            "---  ------              --------------   -----         \n",
            " 0   id                  289800 non-null  object        \n",
            " 1   vendor_id           289800 non-null  int64         \n",
            " 2   pickup_datetime     289800 non-null  datetime64[ns]\n",
            " 3   dropoff_datetime    289800 non-null  datetime64[ns]\n",
            " 4   passenger_count     289800 non-null  int64         \n",
            " 5   pickup_longitude    289800 non-null  float64       \n",
            " 6   pickup_latitude     289800 non-null  float64       \n",
            " 7   dropoff_longitude   289800 non-null  float64       \n",
            " 8   dropoff_latitude    289800 non-null  float64       \n",
            " 9   store_and_fwd_flag  289800 non-null  int64         \n",
            " 10  trip_duration       289800 non-null  float64       \n",
            " 11  pickup_day          289800 non-null  object        \n",
            " 12  dropoff_day         289800 non-null  object        \n",
            " 13  pickup_day_no       289800 non-null  int64         \n",
            " 14  dropoff_day_no      289800 non-null  int64         \n",
            " 15  pickup_hour         289800 non-null  int64         \n",
            " 16  dropoff_hour        289800 non-null  int64         \n",
            " 17  pickup_month        289800 non-null  int64         \n",
            " 18  dropoff_month       289800 non-null  int64         \n",
            " 19  pickup_timeofday    289800 non-null  object        \n",
            " 20  dropoff_timeofday   289800 non-null  object        \n",
            " 21  distance            289800 non-null  float64       \n",
            " 22  speed               289800 non-null  float64       \n",
            "dtypes: datetime64[ns](2), float64(7), int64(9), object(5)\n",
            "memory usage: 50.9+ MB\n"
          ]
        }
      ]
    },
    {
      "cell_type": "markdown",
      "source": [
        "OUTLIERS"
      ],
      "metadata": {
        "id": "i66dHrSdo3j4"
      }
    },
    {
      "cell_type": "markdown",
      "source": [
        "Trip Duration Outliers"
      ],
      "metadata": {
        "id": "GqFscADspQTh"
      }
    },
    {
      "cell_type": "code",
      "source": [
        "#outlier Observed\n",
        "\n",
        "#Sorting For Inspection\n",
        "df['trip_duration'].sort_values(ascending=False)"
      ],
      "metadata": {
        "colab": {
          "base_uri": "https://localhost:8080/"
        },
        "id": "AY8iU-pMo5HF",
        "outputId": "663c9ca4-116d-498d-e136-d9d6cefb9434"
      },
      "execution_count": null,
      "outputs": [
        {
          "output_type": "execute_result",
          "data": {
            "text/plain": [
              "21813     1939736.0\n",
              "259437      86391.0\n",
              "119185      86387.0\n",
              "177225      86378.0\n",
              "90557       86369.0\n",
              "            ...    \n",
              "146590          2.0\n",
              "119181          1.0\n",
              "102646          1.0\n",
              "70318           1.0\n",
              "95823           1.0\n",
              "Name: trip_duration, Length: 289800, dtype: float64"
            ]
          },
          "metadata": {},
          "execution_count": 18
        }
      ]
    },
    {
      "cell_type": "code",
      "source": [
        "#Dropping Rows having Trip Duration Outliers ( 1939736 and 1)\n",
        "df.drop(df[df['trip_duration'] == 1939736].index, inplace = True)\n",
        "df.drop(df[df['trip_duration'] == 1].index, inplace = True)"
      ],
      "metadata": {
        "id": "KKDcckXto_zS"
      },
      "execution_count": null,
      "outputs": []
    },
    {
      "cell_type": "markdown",
      "source": [
        "Passenger count outlier"
      ],
      "metadata": {
        "id": "gcw57LX5pPBq"
      }
    },
    {
      "cell_type": "code",
      "source": [
        "df.passenger_count.value_counts()"
      ],
      "metadata": {
        "colab": {
          "base_uri": "https://localhost:8080/"
        },
        "id": "AVqsbPLgpFxr",
        "outputId": "3476197b-17ba-4a69-962d-cc949886d50a"
      },
      "execution_count": null,
      "outputs": [
        {
          "output_type": "execute_result",
          "data": {
            "text/plain": [
              "1    205184\n",
              "2     41874\n",
              "5     15502\n",
              "3     11866\n",
              "6      9645\n",
              "4      5712\n",
              "0        11\n",
              "7         1\n",
              "Name: passenger_count, dtype: int64"
            ]
          },
          "metadata": {},
          "execution_count": 20
        }
      ]
    },
    {
      "cell_type": "code",
      "source": [
        "#Removing Trips With No Passengers (32) and Single Trips With 7 and 9 Passengers\n",
        "df.drop(df[df['passenger_count'] == 0].index, inplace = True)\n",
        "df.drop(df[df['passenger_count'] == 7].index, inplace = True)\n",
        "df.drop(df[df['passenger_count'] == 9].index, inplace = True)"
      ],
      "metadata": {
        "id": "1RrSAFHIpbfk"
      },
      "execution_count": null,
      "outputs": []
    },
    {
      "cell_type": "markdown",
      "source": [
        "SPEED OUTLIERS"
      ],
      "metadata": {
        "id": "NLr2DZWXposn"
      }
    },
    {
      "cell_type": "code",
      "source": [
        "df.speed.describe()"
      ],
      "metadata": {
        "colab": {
          "base_uri": "https://localhost:8080/"
        },
        "id": "1HFHBeUaqROz",
        "outputId": "e6987002-febf-4e2d-cdde-0861091ed369"
      },
      "execution_count": null,
      "outputs": [
        {
          "output_type": "execute_result",
          "data": {
            "text/plain": [
              "count    289783.000000\n",
              "mean         14.430010\n",
              "std          13.927277\n",
              "min           0.000000\n",
              "25%           9.111737\n",
              "50%          12.788910\n",
              "75%          17.851555\n",
              "max        5640.501953\n",
              "Name: speed, dtype: float64"
            ]
          },
          "metadata": {},
          "execution_count": 22
        }
      ]
    },
    {
      "cell_type": "code",
      "source": [
        "plt.figure(figsize = (20,5))\n",
        "sns.boxplot(df.speed)\n",
        "plt.show()"
      ],
      "metadata": {
        "colab": {
          "base_uri": "https://localhost:8080/"
        },
        "id": "LbK95mCCqU_x",
        "outputId": "a2534d2d-c04c-4f76-b6c2-2fb58e8afddf"
      },
      "execution_count": null,
      "outputs": [
        {
          "output_type": "display_data",
          "data": {
            "text/plain": [
              "<Figure size 1440x360 with 1 Axes>"
            ],
            "image/png": "[encoded data removed]"
          },
          "metadata": {
            "needs_background": "light"
          }
        }
      ]
    },
    {
      "cell_type": "code",
      "source": [
        "#Box Plot Analysis of Speed Less than 104 Km/hr\n",
        "bds1 = df[df.speed <= 104]\n",
        "plt.figure(figsize = (20,5))\n",
        "sns.boxplot(bds1.speed)\n",
        "plt.show()"
      ],
      "metadata": {
        "colab": {
          "base_uri": "https://localhost:8080/"
        },
        "id": "mvbVTxXvpch3",
        "outputId": "2df9830a-feaf-4ad2-e52f-180c63c4521c"
      },
      "execution_count": null,
      "outputs": [
        {
          "output_type": "display_data",
          "data": {
            "text/plain": [
              "<Figure size 1440x360 with 1 Axes>"
            ],
            "image/png": "[encoded data removed]"
          },
          "metadata": {
            "needs_background": "light"
          }
        }
      ]
    },
    {
      "cell_type": "code",
      "source": [
        "df.drop(df[df['speed'] > 120].index, inplace = True)\n"
      ],
      "metadata": {
        "id": "KjnnIIVQqe8Z"
      },
      "execution_count": null,
      "outputs": []
    },
    {
      "cell_type": "code",
      "source": [
        "#Box Plot Analysis of Speed Less than 104 Km/hr\n",
        "plt.figure(figsize = (20,5))\n",
        "sns.boxplot(df.speed)\n",
        "plt.show()"
      ],
      "metadata": {
        "colab": {
          "base_uri": "https://localhost:8080/",
          "height": 286
        },
        "id": "y4q630Zorrh5",
        "outputId": "2c70e14e-4af4-4e1e-bd1b-5134aa37955c"
      },
      "execution_count": null,
      "outputs": [
        {
          "output_type": "display_data",
          "data": {
            "text/plain": [
              "<Figure size 1440x360 with 1 Axes>"
            ],
            "image/png": "[encoded data removed]"
          },
          "metadata": {
            "needs_background": "light"
          }
        }
      ]
    },
    {
      "cell_type": "markdown",
      "source": [
        "Many trips were done at a speed of over 200 km/h.\n",
        "\n",
        "Mostly trips are done at a speed range of 10-20 km/h with an average speed of around 14 km/h."
      ],
      "metadata": {
        "id": "QIhncQ1Dp6c6"
      }
    },
    {
      "cell_type": "markdown",
      "source": [
        "MAKING A COPY OF DATASET"
      ],
      "metadata": {
        "id": "F1iojANEdYHV"
      }
    },
    {
      "cell_type": "code",
      "source": [
        "\n",
        "df1 = df.copy(deep=True)"
      ],
      "metadata": {
        "id": "QeuE6E0LdbsB"
      },
      "execution_count": null,
      "outputs": []
    },
    {
      "cell_type": "code",
      "source": [
        "df1.head()"
      ],
      "metadata": {
        "colab": {
          "base_uri": "https://localhost:8080/",
          "height": 386
        },
        "id": "u07R1drld0bo",
        "outputId": "d367b9e4-5d47-41d3-a12d-0506d4eb08e0"
      },
      "execution_count": null,
      "outputs": [
        {
          "output_type": "execute_result",
          "data": {
            "text/plain": [
              "          id  vendor_id     pickup_datetime    dropoff_datetime  \\\n",
              "0  id1080784          2 2016-02-29 16:40:21 2016-02-29 16:47:01   \n",
              "1  id0889885          1 2016-03-11 23:35:37 2016-03-11 23:53:57   \n",
              "2  id0857912          2 2016-02-21 17:59:33 2016-02-21 18:26:48   \n",
              "3  id3744273          2 2016-01-05 09:44:31 2016-01-05 10:03:32   \n",
              "4  id0232939          1 2016-02-17 06:42:23 2016-02-17 06:56:31   \n",
              "\n",
              "   passenger_count  pickup_longitude  pickup_latitude  dropoff_longitude  \\\n",
              "0                1        -73.953918        40.778873         -73.963875   \n",
              "1                2        -73.988312        40.731743         -73.994751   \n",
              "2                2        -73.997314        40.721458         -73.948029   \n",
              "3                6        -73.961670        40.759720         -73.956779   \n",
              "4                1        -74.017120        40.708469         -73.988182   \n",
              "\n",
              "   dropoff_latitude  store_and_fwd_flag  ...  pickup_day_no dropoff_day_no  \\\n",
              "0         40.771164                   0  ...              0              0   \n",
              "1         40.694931                   0  ...              4              4   \n",
              "2         40.774918                   0  ...              6              6   \n",
              "3         40.780628                   0  ...              1              1   \n",
              "4         40.740631                   0  ...              2              2   \n",
              "\n",
              "  pickup_hour  dropoff_hour  pickup_month  dropoff_month  pickup_timeofday  \\\n",
              "0          16            16             2              2           Evening   \n",
              "1          23            23             3              3        Late night   \n",
              "2          17            18             2              2           Evening   \n",
              "3           9            10             1              1           Morning   \n",
              "4           6             6             2              2           Morning   \n",
              "\n",
              "   dropoff_timeofday  distance      speed  \n",
              "0            Evening  1.199074  10.791669  \n",
              "1         Late night  4.129117  13.513473  \n",
              "2            Evening  7.250763  15.964983  \n",
              "3            Morning  2.361101   7.449573  \n",
              "4            Morning  4.328540  18.375877  \n",
              "\n",
              "[5 rows x 23 columns]"
            ],
            "text/html": [
              "\n",
              "  <div id=\"df-b461a6a8-a9d0-4763-90cb-c35c01b03871\">\n",
              "    <div class=\"colab-df-container\">\n",
              "      <div>\n",
              "<style scoped>\n",
              "    .dataframe tbody tr th:only-of-type {\n",
              "        vertical-align: middle;\n",
              "    }\n",
              "\n",
              "    .dataframe tbody tr th {\n",
              "        vertical-align: top;\n",
              "    }\n",
              "\n",
              "    .dataframe thead th {\n",
              "        text-align: right;\n",
              "    }\n",
              "</style>\n",
              "<table border=\"1\" class=\"dataframe\">\n",
              "  <thead>\n",
              "    <tr style=\"text-align: right;\">\n",
              "      <th></th>\n",
              "      <th>id</th>\n",
              "      <th>vendor_id</th>\n",
              "      <th>pickup_datetime</th>\n",
              "      <th>dropoff_datetime</th>\n",
              "      <th>passenger_count</th>\n",
              "      <th>pickup_longitude</th>\n",
              "      <th>pickup_latitude</th>\n",
              "      <th>dropoff_longitude</th>\n",
              "      <th>dropoff_latitude</th>\n",
              "      <th>store_and_fwd_flag</th>\n",
              "      <th>...</th>\n",
              "      <th>pickup_day_no</th>\n",
              "      <th>dropoff_day_no</th>\n",
              "      <th>pickup_hour</th>\n",
              "      <th>dropoff_hour</th>\n",
              "      <th>pickup_month</th>\n",
              "      <th>dropoff_month</th>\n",
              "      <th>pickup_timeofday</th>\n",
              "      <th>dropoff_timeofday</th>\n",
              "      <th>distance</th>\n",
              "      <th>speed</th>\n",
              "    </tr>\n",
              "  </thead>\n",
              "  <tbody>\n",
              "    <tr>\n",
              "      <th>0</th>\n",
              "      <td>id1080784</td>\n",
              "      <td>2</td>\n",
              "      <td>2016-02-29 16:40:21</td>\n",
              "      <td>2016-02-29 16:47:01</td>\n",
              "      <td>1</td>\n",
              "      <td>-73.953918</td>\n",
              "      <td>40.778873</td>\n",
              "      <td>-73.963875</td>\n",
              "      <td>40.771164</td>\n",
              "      <td>0</td>\n",
              "      <td>...</td>\n",
              "      <td>0</td>\n",
              "      <td>0</td>\n",
              "      <td>16</td>\n",
              "      <td>16</td>\n",
              "      <td>2</td>\n",
              "      <td>2</td>\n",
              "      <td>Evening</td>\n",
              "      <td>Evening</td>\n",
              "      <td>1.199074</td>\n",
              "      <td>10.791669</td>\n",
              "    </tr>\n",
              "    <tr>\n",
              "      <th>1</th>\n",
              "      <td>id0889885</td>\n",
              "      <td>1</td>\n",
              "      <td>2016-03-11 23:35:37</td>\n",
              "      <td>2016-03-11 23:53:57</td>\n",
              "      <td>2</td>\n",
              "      <td>-73.988312</td>\n",
              "      <td>40.731743</td>\n",
              "      <td>-73.994751</td>\n",
              "      <td>40.694931</td>\n",
              "      <td>0</td>\n",
              "      <td>...</td>\n",
              "      <td>4</td>\n",
              "      <td>4</td>\n",
              "      <td>23</td>\n",
              "      <td>23</td>\n",
              "      <td>3</td>\n",
              "      <td>3</td>\n",
              "      <td>Late night</td>\n",
              "      <td>Late night</td>\n",
              "      <td>4.129117</td>\n",
              "      <td>13.513473</td>\n",
              "    </tr>\n",
              "    <tr>\n",
              "      <th>2</th>\n",
              "      <td>id0857912</td>\n",
              "      <td>2</td>\n",
              "      <td>2016-02-21 17:59:33</td>\n",
              "      <td>2016-02-21 18:26:48</td>\n",
              "      <td>2</td>\n",
              "      <td>-73.997314</td>\n",
              "      <td>40.721458</td>\n",
              "      <td>-73.948029</td>\n",
              "      <td>40.774918</td>\n",
              "      <td>0</td>\n",
              "      <td>...</td>\n",
              "      <td>6</td>\n",
              "      <td>6</td>\n",
              "      <td>17</td>\n",
              "      <td>18</td>\n",
              "      <td>2</td>\n",
              "      <td>2</td>\n",
              "      <td>Evening</td>\n",
              "      <td>Evening</td>\n",
              "      <td>7.250763</td>\n",
              "      <td>15.964983</td>\n",
              "    </tr>\n",
              "    <tr>\n",
              "      <th>3</th>\n",
              "      <td>id3744273</td>\n",
              "      <td>2</td>\n",
              "      <td>2016-01-05 09:44:31</td>\n",
              "      <td>2016-01-05 10:03:32</td>\n",
              "      <td>6</td>\n",
              "      <td>-73.961670</td>\n",
              "      <td>40.759720</td>\n",
              "      <td>-73.956779</td>\n",
              "      <td>40.780628</td>\n",
              "      <td>0</td>\n",
              "      <td>...</td>\n",
              "      <td>1</td>\n",
              "      <td>1</td>\n",
              "      <td>9</td>\n",
              "      <td>10</td>\n",
              "      <td>1</td>\n",
              "      <td>1</td>\n",
              "      <td>Morning</td>\n",
              "      <td>Morning</td>\n",
              "      <td>2.361101</td>\n",
              "      <td>7.449573</td>\n",
              "    </tr>\n",
              "    <tr>\n",
              "      <th>4</th>\n",
              "      <td>id0232939</td>\n",
              "      <td>1</td>\n",
              "      <td>2016-02-17 06:42:23</td>\n",
              "      <td>2016-02-17 06:56:31</td>\n",
              "      <td>1</td>\n",
              "      <td>-74.017120</td>\n",
              "      <td>40.708469</td>\n",
              "      <td>-73.988182</td>\n",
              "      <td>40.740631</td>\n",
              "      <td>0</td>\n",
              "      <td>...</td>\n",
              "      <td>2</td>\n",
              "      <td>2</td>\n",
              "      <td>6</td>\n",
              "      <td>6</td>\n",
              "      <td>2</td>\n",
              "      <td>2</td>\n",
              "      <td>Morning</td>\n",
              "      <td>Morning</td>\n",
              "      <td>4.328540</td>\n",
              "      <td>18.375877</td>\n",
              "    </tr>\n",
              "  </tbody>\n",
              "</table>\n",
              "<p>5 rows × 23 columns</p>\n",
              "</div>\n",
              "      <button class=\"colab-df-convert\" onclick=\"convertToInteractive('df-b461a6a8-a9d0-4763-90cb-c35c01b03871')\"\n",
              "              title=\"Convert this dataframe to an interactive table.\"\n",
              "              style=\"display:none;\">\n",
              "        \n",
              "  <svg xmlns=\"http://www.w3.org/2000/svg\" height=\"24px\"viewBox=\"0 0 24 24\"\n",
              "       width=\"24px\">\n",
              "    <path d=\"M0 0h24v24H0V0z\" fill=\"none\"/>\n",
              "    <path d=\"M18.56 5.44l.94 2.06.94-2.06 2.06-.94-2.06-.94-.94-2.06-.94 2.06-2.06.94zm-11 1L8.5 8.5l.94-2.06 2.06-.94-2.06-.94L8.5 2.5l-.94 2.06-2.06.94zm10 10l.94 2.06.94-2.06 2.06-.94-2.06-.94-.94-2.06-.94 2.06-2.06.94z\"/><path d=\"M17.41 7.96l-1.37-1.37c-.4-.4-.92-.59-1.43-.59-.52 0-1.04.2-1.43.59L10.3 9.45l-7.72 7.72c-.78.78-.78 2.05 0 2.83L4 21.41c.39.39.9.59 1.41.59.51 0 1.02-.2 1.41-.59l7.78-7.78 2.81-2.81c.8-.78.8-2.07 0-2.86zM5.41 20L4 18.59l7.72-7.72 1.47 1.35L5.41 20z\"/>\n",
              "  </svg>\n",
              "      </button>\n",
              "      \n",
              "  <style>\n",
              "    .colab-df-container {\n",
              "      display:flex;\n",
              "      flex-wrap:wrap;\n",
              "      gap: 12px;\n",
              "    }\n",
              "\n",
              "    .colab-df-convert {\n",
              "      background-color: #E8F0FE;\n",
              "      border: none;\n",
              "      border-radius: 50%;\n",
              "      cursor: pointer;\n",
              "      display: none;\n",
              "      fill: #1967D2;\n",
              "      height: 32px;\n",
              "      padding: 0 0 0 0;\n",
              "      width: 32px;\n",
              "    }\n",
              "\n",
              "    .colab-df-convert:hover {\n",
              "      background-color: #E2EBFA;\n",
              "      box-shadow: 0px 1px 2px rgba(60, 64, 67, 0.3), 0px 1px 3px 1px rgba(60, 64, 67, 0.15);\n",
              "      fill: #174EA6;\n",
              "    }\n",
              "\n",
              "    [theme=dark] .colab-df-convert {\n",
              "      background-color: #3B4455;\n",
              "      fill: #D2E3FC;\n",
              "    }\n",
              "\n",
              "    [theme=dark] .colab-df-convert:hover {\n",
              "      background-color: #434B5C;\n",
              "      box-shadow: 0px 1px 3px 1px rgba(0, 0, 0, 0.15);\n",
              "      filter: drop-shadow(0px 1px 2px rgba(0, 0, 0, 0.3));\n",
              "      fill: #FFFFFF;\n",
              "    }\n",
              "  </style>\n",
              "\n",
              "      <script>\n",
              "        const buttonEl =\n",
              "          document.querySelector('#df-b461a6a8-a9d0-4763-90cb-c35c01b03871 button.colab-df-convert');\n",
              "        buttonEl.style.display =\n",
              "          google.colab.kernel.accessAllowed ? 'block' : 'none';\n",
              "\n",
              "        async function convertToInteractive(key) {\n",
              "          const element = document.querySelector('#df-b461a6a8-a9d0-4763-90cb-c35c01b03871');\n",
              "          const dataTable =\n",
              "            await google.colab.kernel.invokeFunction('convertToInteractive',\n",
              "                                                     [key], {});\n",
              "          if (!dataTable) return;\n",
              "\n",
              "          const docLinkHtml = 'Like what you see? Visit the ' +\n",
              "            '<a target=\"_blank\" href=https://colab.research.google.com/notebooks/data_table.ipynb>data table notebook</a>'\n",
              "            + ' to learn more about interactive tables.';\n",
              "          element.innerHTML = '';\n",
              "          dataTable['output_type'] = 'display_data';\n",
              "          await google.colab.output.renderOutput(dataTable, element);\n",
              "          const docLink = document.createElement('div');\n",
              "          docLink.innerHTML = docLinkHtml;\n",
              "          element.appendChild(docLink);\n",
              "        }\n",
              "      </script>\n",
              "    </div>\n",
              "  </div>\n",
              "  "
            ]
          },
          "metadata": {},
          "execution_count": 28
        }
      ]
    },
    {
      "cell_type": "code",
      "source": [
        "df1.columns"
      ],
      "metadata": {
        "colab": {
          "base_uri": "https://localhost:8080/"
        },
        "id": "vK3k-3zlds8p",
        "outputId": "0df60eed-7d76-4234-925d-cb16d63adc90"
      },
      "execution_count": null,
      "outputs": [
        {
          "output_type": "execute_result",
          "data": {
            "text/plain": [
              "Index(['id', 'vendor_id', 'pickup_datetime', 'dropoff_datetime',\n",
              "       'passenger_count', 'pickup_longitude', 'pickup_latitude',\n",
              "       'dropoff_longitude', 'dropoff_latitude', 'store_and_fwd_flag',\n",
              "       'trip_duration', 'pickup_day', 'dropoff_day', 'pickup_day_no',\n",
              "       'dropoff_day_no', 'pickup_hour', 'dropoff_hour', 'pickup_month',\n",
              "       'dropoff_month', 'pickup_timeofday', 'dropoff_timeofday', 'distance',\n",
              "       'speed'],\n",
              "      dtype='object')"
            ]
          },
          "metadata": {},
          "execution_count": 29
        }
      ]
    },
    {
      "cell_type": "markdown",
      "source": [
        "DELETING COLUMNS NOT REQUIRED"
      ],
      "metadata": {
        "id": "BJ9jzQYceDMo"
      }
    },
    {
      "cell_type": "code",
      "source": [
        "df1.drop(['id','pickup_longitude', 'pickup_latitude','dropoff_longitude','dropoff_latitude','pickup_datetime', 'dropoff_datetime','speed', 'pickup_day', 'dropoff_day', 'pickup_timeofday', 'dropoff_timeofday'], axis = 1, inplace = True)"
      ],
      "metadata": {
        "id": "ikx3rBW1eJ6d"
      },
      "execution_count": null,
      "outputs": []
    },
    {
      "cell_type": "code",
      "source": [
        "df1.head()"
      ],
      "metadata": {
        "colab": {
          "base_uri": "https://localhost:8080/",
          "height": 270
        },
        "id": "b-SCLdlkfG-m",
        "outputId": "1532c2e8-4e44-42ee-cf9e-8761b65228e5"
      },
      "execution_count": null,
      "outputs": [
        {
          "output_type": "execute_result",
          "data": {
            "text/plain": [
              "   vendor_id  passenger_count  store_and_fwd_flag  trip_duration  \\\n",
              "0          2                1                   0          400.0   \n",
              "1          1                2                   0         1100.0   \n",
              "2          2                2                   0         1635.0   \n",
              "3          2                6                   0         1141.0   \n",
              "4          1                1                   0          848.0   \n",
              "\n",
              "   pickup_day_no  dropoff_day_no  pickup_hour  dropoff_hour  pickup_month  \\\n",
              "0              0               0           16            16             2   \n",
              "1              4               4           23            23             3   \n",
              "2              6               6           17            18             2   \n",
              "3              1               1            9            10             1   \n",
              "4              2               2            6             6             2   \n",
              "\n",
              "   dropoff_month  distance  \n",
              "0              2  1.199074  \n",
              "1              3  4.129117  \n",
              "2              2  7.250763  \n",
              "3              1  2.361101  \n",
              "4              2  4.328540  "
            ],
            "text/html": [
              "\n",
              "  <div id=\"df-8ce5f6b9-8fe7-4e08-85f5-5e85da6f9224\">\n",
              "    <div class=\"colab-df-container\">\n",
              "      <div>\n",
              "<style scoped>\n",
              "    .dataframe tbody tr th:only-of-type {\n",
              "        vertical-align: middle;\n",
              "    }\n",
              "\n",
              "    .dataframe tbody tr th {\n",
              "        vertical-align: top;\n",
              "    }\n",
              "\n",
              "    .dataframe thead th {\n",
              "        text-align: right;\n",
              "    }\n",
              "</style>\n",
              "<table border=\"1\" class=\"dataframe\">\n",
              "  <thead>\n",
              "    <tr style=\"text-align: right;\">\n",
              "      <th></th>\n",
              "      <th>vendor_id</th>\n",
              "      <th>passenger_count</th>\n",
              "      <th>store_and_fwd_flag</th>\n",
              "      <th>trip_duration</th>\n",
              "      <th>pickup_day_no</th>\n",
              "      <th>dropoff_day_no</th>\n",
              "      <th>pickup_hour</th>\n",
              "      <th>dropoff_hour</th>\n",
              "      <th>pickup_month</th>\n",
              "      <th>dropoff_month</th>\n",
              "      <th>distance</th>\n",
              "    </tr>\n",
              "  </thead>\n",
              "  <tbody>\n",
              "    <tr>\n",
              "      <th>0</th>\n",
              "      <td>2</td>\n",
              "      <td>1</td>\n",
              "      <td>0</td>\n",
              "      <td>400.0</td>\n",
              "      <td>0</td>\n",
              "      <td>0</td>\n",
              "      <td>16</td>\n",
              "      <td>16</td>\n",
              "      <td>2</td>\n",
              "      <td>2</td>\n",
              "      <td>1.199074</td>\n",
              "    </tr>\n",
              "    <tr>\n",
              "      <th>1</th>\n",
              "      <td>1</td>\n",
              "      <td>2</td>\n",
              "      <td>0</td>\n",
              "      <td>1100.0</td>\n",
              "      <td>4</td>\n",
              "      <td>4</td>\n",
              "      <td>23</td>\n",
              "      <td>23</td>\n",
              "      <td>3</td>\n",
              "      <td>3</td>\n",
              "      <td>4.129117</td>\n",
              "    </tr>\n",
              "    <tr>\n",
              "      <th>2</th>\n",
              "      <td>2</td>\n",
              "      <td>2</td>\n",
              "      <td>0</td>\n",
              "      <td>1635.0</td>\n",
              "      <td>6</td>\n",
              "      <td>6</td>\n",
              "      <td>17</td>\n",
              "      <td>18</td>\n",
              "      <td>2</td>\n",
              "      <td>2</td>\n",
              "      <td>7.250763</td>\n",
              "    </tr>\n",
              "    <tr>\n",
              "      <th>3</th>\n",
              "      <td>2</td>\n",
              "      <td>6</td>\n",
              "      <td>0</td>\n",
              "      <td>1141.0</td>\n",
              "      <td>1</td>\n",
              "      <td>1</td>\n",
              "      <td>9</td>\n",
              "      <td>10</td>\n",
              "      <td>1</td>\n",
              "      <td>1</td>\n",
              "      <td>2.361101</td>\n",
              "    </tr>\n",
              "    <tr>\n",
              "      <th>4</th>\n",
              "      <td>1</td>\n",
              "      <td>1</td>\n",
              "      <td>0</td>\n",
              "      <td>848.0</td>\n",
              "      <td>2</td>\n",
              "      <td>2</td>\n",
              "      <td>6</td>\n",
              "      <td>6</td>\n",
              "      <td>2</td>\n",
              "      <td>2</td>\n",
              "      <td>4.328540</td>\n",
              "    </tr>\n",
              "  </tbody>\n",
              "</table>\n",
              "</div>\n",
              "      <button class=\"colab-df-convert\" onclick=\"convertToInteractive('df-8ce5f6b9-8fe7-4e08-85f5-5e85da6f9224')\"\n",
              "              title=\"Convert this dataframe to an interactive table.\"\n",
              "              style=\"display:none;\">\n",
              "        \n",
              "  <svg xmlns=\"http://www.w3.org/2000/svg\" height=\"24px\"viewBox=\"0 0 24 24\"\n",
              "       width=\"24px\">\n",
              "    <path d=\"M0 0h24v24H0V0z\" fill=\"none\"/>\n",
              "    <path d=\"M18.56 5.44l.94 2.06.94-2.06 2.06-.94-2.06-.94-.94-2.06-.94 2.06-2.06.94zm-11 1L8.5 8.5l.94-2.06 2.06-.94-2.06-.94L8.5 2.5l-.94 2.06-2.06.94zm10 10l.94 2.06.94-2.06 2.06-.94-2.06-.94-.94-2.06-.94 2.06-2.06.94z\"/><path d=\"M17.41 7.96l-1.37-1.37c-.4-.4-.92-.59-1.43-.59-.52 0-1.04.2-1.43.59L10.3 9.45l-7.72 7.72c-.78.78-.78 2.05 0 2.83L4 21.41c.39.39.9.59 1.41.59.51 0 1.02-.2 1.41-.59l7.78-7.78 2.81-2.81c.8-.78.8-2.07 0-2.86zM5.41 20L4 18.59l7.72-7.72 1.47 1.35L5.41 20z\"/>\n",
              "  </svg>\n",
              "      </button>\n",
              "      \n",
              "  <style>\n",
              "    .colab-df-container {\n",
              "      display:flex;\n",
              "      flex-wrap:wrap;\n",
              "      gap: 12px;\n",
              "    }\n",
              "\n",
              "    .colab-df-convert {\n",
              "      background-color: #E8F0FE;\n",
              "      border: none;\n",
              "      border-radius: 50%;\n",
              "      cursor: pointer;\n",
              "      display: none;\n",
              "      fill: #1967D2;\n",
              "      height: 32px;\n",
              "      padding: 0 0 0 0;\n",
              "      width: 32px;\n",
              "    }\n",
              "\n",
              "    .colab-df-convert:hover {\n",
              "      background-color: #E2EBFA;\n",
              "      box-shadow: 0px 1px 2px rgba(60, 64, 67, 0.3), 0px 1px 3px 1px rgba(60, 64, 67, 0.15);\n",
              "      fill: #174EA6;\n",
              "    }\n",
              "\n",
              "    [theme=dark] .colab-df-convert {\n",
              "      background-color: #3B4455;\n",
              "      fill: #D2E3FC;\n",
              "    }\n",
              "\n",
              "    [theme=dark] .colab-df-convert:hover {\n",
              "      background-color: #434B5C;\n",
              "      box-shadow: 0px 1px 3px 1px rgba(0, 0, 0, 0.15);\n",
              "      filter: drop-shadow(0px 1px 2px rgba(0, 0, 0, 0.3));\n",
              "      fill: #FFFFFF;\n",
              "    }\n",
              "  </style>\n",
              "\n",
              "      <script>\n",
              "        const buttonEl =\n",
              "          document.querySelector('#df-8ce5f6b9-8fe7-4e08-85f5-5e85da6f9224 button.colab-df-convert');\n",
              "        buttonEl.style.display =\n",
              "          google.colab.kernel.accessAllowed ? 'block' : 'none';\n",
              "\n",
              "        async function convertToInteractive(key) {\n",
              "          const element = document.querySelector('#df-8ce5f6b9-8fe7-4e08-85f5-5e85da6f9224');\n",
              "          const dataTable =\n",
              "            await google.colab.kernel.invokeFunction('convertToInteractive',\n",
              "                                                     [key], {});\n",
              "          if (!dataTable) return;\n",
              "\n",
              "          const docLinkHtml = 'Like what you see? Visit the ' +\n",
              "            '<a target=\"_blank\" href=https://colab.research.google.com/notebooks/data_table.ipynb>data table notebook</a>'\n",
              "            + ' to learn more about interactive tables.';\n",
              "          element.innerHTML = '';\n",
              "          dataTable['output_type'] = 'display_data';\n",
              "          await google.colab.output.renderOutput(dataTable, element);\n",
              "          const docLink = document.createElement('div');\n",
              "          docLink.innerHTML = docLinkHtml;\n",
              "          element.appendChild(docLink);\n",
              "        }\n",
              "      </script>\n",
              "    </div>\n",
              "  </div>\n",
              "  "
            ]
          },
          "metadata": {},
          "execution_count": 31
        }
      ]
    },
    {
      "cell_type": "code",
      "source": [
        "df1.columns"
      ],
      "metadata": {
        "colab": {
          "base_uri": "https://localhost:8080/"
        },
        "id": "IseleaUzfJdD",
        "outputId": "f8ff5c18-b9d3-4687-a01c-bfa08b7dbda2"
      },
      "execution_count": null,
      "outputs": [
        {
          "output_type": "execute_result",
          "data": {
            "text/plain": [
              "Index(['vendor_id', 'passenger_count', 'store_and_fwd_flag', 'trip_duration',\n",
              "       'pickup_day_no', 'dropoff_day_no', 'pickup_hour', 'dropoff_hour',\n",
              "       'pickup_month', 'dropoff_month', 'distance'],\n",
              "      dtype='object')"
            ]
          },
          "metadata": {},
          "execution_count": 32
        }
      ]
    },
    {
      "cell_type": "markdown",
      "source": [
        "STASTICAL SUMMARY"
      ],
      "metadata": {
        "id": "x0jlhXoMfxQe"
      }
    },
    {
      "cell_type": "code",
      "source": [
        "df1.describe()"
      ],
      "metadata": {
        "colab": {
          "base_uri": "https://localhost:8080/",
          "height": 364
        },
        "id": "Wi13_vN2fzcc",
        "outputId": "7c120453-1e44-4dfa-f333-7df87056791e"
      },
      "execution_count": null,
      "outputs": [
        {
          "output_type": "execute_result",
          "data": {
            "text/plain": [
              "           vendor_id  passenger_count  store_and_fwd_flag  trip_duration  \\\n",
              "count  289758.000000    289758.000000       289758.000000  289758.000000   \n",
              "mean        1.536782         1.665952            0.005215     944.433365   \n",
              "std         0.498646         1.315407            0.072024    3053.685205   \n",
              "min         1.000000         1.000000            0.000000       2.000000   \n",
              "25%         1.000000         1.000000            0.000000     397.000000   \n",
              "50%         2.000000         1.000000            0.000000     663.000000   \n",
              "75%         2.000000         2.000000            0.000000    1075.000000   \n",
              "max         2.000000         6.000000            1.000000   86391.000000   \n",
              "\n",
              "       pickup_day_no  dropoff_day_no    pickup_hour   dropoff_hour  \\\n",
              "count  289758.000000   289758.000000  289758.000000  289758.000000   \n",
              "mean        3.049051        3.052941      13.614226      13.609667   \n",
              "std         1.956127        1.958456       6.396921       6.480371   \n",
              "min         0.000000        0.000000       0.000000       0.000000   \n",
              "25%         1.000000        1.000000       9.000000       9.000000   \n",
              "50%         3.000000        3.000000      14.000000      14.000000   \n",
              "75%         5.000000        5.000000      19.000000      19.000000   \n",
              "max         6.000000        6.000000      23.000000      23.000000   \n",
              "\n",
              "        pickup_month  dropoff_month       distance  \n",
              "count  289758.000000  289758.000000  289758.000000  \n",
              "mean        3.519810       3.520175       3.443688  \n",
              "std         1.680688       1.680850       3.970781  \n",
              "min         1.000000       1.000000       0.000000  \n",
              "25%         2.000000       2.000000       1.231935  \n",
              "50%         4.000000       4.000000       2.092570  \n",
              "75%         5.000000       5.000000       3.871847  \n",
              "max         6.000000       7.000000     116.496589  "
            ],
            "text/html": [
              "\n",
              "  <div id=\"df-a3a1e78b-ac09-4ab6-825e-464759a7f9dc\">\n",
              "    <div class=\"colab-df-container\">\n",
              "      <div>\n",
              "<style scoped>\n",
              "    .dataframe tbody tr th:only-of-type {\n",
              "        vertical-align: middle;\n",
              "    }\n",
              "\n",
              "    .dataframe tbody tr th {\n",
              "        vertical-align: top;\n",
              "    }\n",
              "\n",
              "    .dataframe thead th {\n",
              "        text-align: right;\n",
              "    }\n",
              "</style>\n",
              "<table border=\"1\" class=\"dataframe\">\n",
              "  <thead>\n",
              "    <tr style=\"text-align: right;\">\n",
              "      <th></th>\n",
              "      <th>vendor_id</th>\n",
              "      <th>passenger_count</th>\n",
              "      <th>store_and_fwd_flag</th>\n",
              "      <th>trip_duration</th>\n",
              "      <th>pickup_day_no</th>\n",
              "      <th>dropoff_day_no</th>\n",
              "      <th>pickup_hour</th>\n",
              "      <th>dropoff_hour</th>\n",
              "      <th>pickup_month</th>\n",
              "      <th>dropoff_month</th>\n",
              "      <th>distance</th>\n",
              "    </tr>\n",
              "  </thead>\n",
              "  <tbody>\n",
              "    <tr>\n",
              "      <th>count</th>\n",
              "      <td>289758.000000</td>\n",
              "      <td>289758.000000</td>\n",
              "      <td>289758.000000</td>\n",
              "      <td>289758.000000</td>\n",
              "      <td>289758.000000</td>\n",
              "      <td>289758.000000</td>\n",
              "      <td>289758.000000</td>\n",
              "      <td>289758.000000</td>\n",
              "      <td>289758.000000</td>\n",
              "      <td>289758.000000</td>\n",
              "      <td>289758.000000</td>\n",
              "    </tr>\n",
              "    <tr>\n",
              "      <th>mean</th>\n",
              "      <td>1.536782</td>\n",
              "      <td>1.665952</td>\n",
              "      <td>0.005215</td>\n",
              "      <td>944.433365</td>\n",
              "      <td>3.049051</td>\n",
              "      <td>3.052941</td>\n",
              "      <td>13.614226</td>\n",
              "      <td>13.609667</td>\n",
              "      <td>3.519810</td>\n",
              "      <td>3.520175</td>\n",
              "      <td>3.443688</td>\n",
              "    </tr>\n",
              "    <tr>\n",
              "      <th>std</th>\n",
              "      <td>0.498646</td>\n",
              "      <td>1.315407</td>\n",
              "      <td>0.072024</td>\n",
              "      <td>3053.685205</td>\n",
              "      <td>1.956127</td>\n",
              "      <td>1.958456</td>\n",
              "      <td>6.396921</td>\n",
              "      <td>6.480371</td>\n",
              "      <td>1.680688</td>\n",
              "      <td>1.680850</td>\n",
              "      <td>3.970781</td>\n",
              "    </tr>\n",
              "    <tr>\n",
              "      <th>min</th>\n",
              "      <td>1.000000</td>\n",
              "      <td>1.000000</td>\n",
              "      <td>0.000000</td>\n",
              "      <td>2.000000</td>\n",
              "      <td>0.000000</td>\n",
              "      <td>0.000000</td>\n",
              "      <td>0.000000</td>\n",
              "      <td>0.000000</td>\n",
              "      <td>1.000000</td>\n",
              "      <td>1.000000</td>\n",
              "      <td>0.000000</td>\n",
              "    </tr>\n",
              "    <tr>\n",
              "      <th>25%</th>\n",
              "      <td>1.000000</td>\n",
              "      <td>1.000000</td>\n",
              "      <td>0.000000</td>\n",
              "      <td>397.000000</td>\n",
              "      <td>1.000000</td>\n",
              "      <td>1.000000</td>\n",
              "      <td>9.000000</td>\n",
              "      <td>9.000000</td>\n",
              "      <td>2.000000</td>\n",
              "      <td>2.000000</td>\n",
              "      <td>1.231935</td>\n",
              "    </tr>\n",
              "    <tr>\n",
              "      <th>50%</th>\n",
              "      <td>2.000000</td>\n",
              "      <td>1.000000</td>\n",
              "      <td>0.000000</td>\n",
              "      <td>663.000000</td>\n",
              "      <td>3.000000</td>\n",
              "      <td>3.000000</td>\n",
              "      <td>14.000000</td>\n",
              "      <td>14.000000</td>\n",
              "      <td>4.000000</td>\n",
              "      <td>4.000000</td>\n",
              "      <td>2.092570</td>\n",
              "    </tr>\n",
              "    <tr>\n",
              "      <th>75%</th>\n",
              "      <td>2.000000</td>\n",
              "      <td>2.000000</td>\n",
              "      <td>0.000000</td>\n",
              "      <td>1075.000000</td>\n",
              "      <td>5.000000</td>\n",
              "      <td>5.000000</td>\n",
              "      <td>19.000000</td>\n",
              "      <td>19.000000</td>\n",
              "      <td>5.000000</td>\n",
              "      <td>5.000000</td>\n",
              "      <td>3.871847</td>\n",
              "    </tr>\n",
              "    <tr>\n",
              "      <th>max</th>\n",
              "      <td>2.000000</td>\n",
              "      <td>6.000000</td>\n",
              "      <td>1.000000</td>\n",
              "      <td>86391.000000</td>\n",
              "      <td>6.000000</td>\n",
              "      <td>6.000000</td>\n",
              "      <td>23.000000</td>\n",
              "      <td>23.000000</td>\n",
              "      <td>6.000000</td>\n",
              "      <td>7.000000</td>\n",
              "      <td>116.496589</td>\n",
              "    </tr>\n",
              "  </tbody>\n",
              "</table>\n",
              "</div>\n",
              "      <button class=\"colab-df-convert\" onclick=\"convertToInteractive('df-a3a1e78b-ac09-4ab6-825e-464759a7f9dc')\"\n",
              "              title=\"Convert this dataframe to an interactive table.\"\n",
              "              style=\"display:none;\">\n",
              "        \n",
              "  <svg xmlns=\"http://www.w3.org/2000/svg\" height=\"24px\"viewBox=\"0 0 24 24\"\n",
              "       width=\"24px\">\n",
              "    <path d=\"M0 0h24v24H0V0z\" fill=\"none\"/>\n",
              "    <path d=\"M18.56 5.44l.94 2.06.94-2.06 2.06-.94-2.06-.94-.94-2.06-.94 2.06-2.06.94zm-11 1L8.5 8.5l.94-2.06 2.06-.94-2.06-.94L8.5 2.5l-.94 2.06-2.06.94zm10 10l.94 2.06.94-2.06 2.06-.94-2.06-.94-.94-2.06-.94 2.06-2.06.94z\"/><path d=\"M17.41 7.96l-1.37-1.37c-.4-.4-.92-.59-1.43-.59-.52 0-1.04.2-1.43.59L10.3 9.45l-7.72 7.72c-.78.78-.78 2.05 0 2.83L4 21.41c.39.39.9.59 1.41.59.51 0 1.02-.2 1.41-.59l7.78-7.78 2.81-2.81c.8-.78.8-2.07 0-2.86zM5.41 20L4 18.59l7.72-7.72 1.47 1.35L5.41 20z\"/>\n",
              "  </svg>\n",
              "      </button>\n",
              "      \n",
              "  <style>\n",
              "    .colab-df-container {\n",
              "      display:flex;\n",
              "      flex-wrap:wrap;\n",
              "      gap: 12px;\n",
              "    }\n",
              "\n",
              "    .colab-df-convert {\n",
              "      background-color: #E8F0FE;\n",
              "      border: none;\n",
              "      border-radius: 50%;\n",
              "      cursor: pointer;\n",
              "      display: none;\n",
              "      fill: #1967D2;\n",
              "      height: 32px;\n",
              "      padding: 0 0 0 0;\n",
              "      width: 32px;\n",
              "    }\n",
              "\n",
              "    .colab-df-convert:hover {\n",
              "      background-color: #E2EBFA;\n",
              "      box-shadow: 0px 1px 2px rgba(60, 64, 67, 0.3), 0px 1px 3px 1px rgba(60, 64, 67, 0.15);\n",
              "      fill: #174EA6;\n",
              "    }\n",
              "\n",
              "    [theme=dark] .colab-df-convert {\n",
              "      background-color: #3B4455;\n",
              "      fill: #D2E3FC;\n",
              "    }\n",
              "\n",
              "    [theme=dark] .colab-df-convert:hover {\n",
              "      background-color: #434B5C;\n",
              "      box-shadow: 0px 1px 3px 1px rgba(0, 0, 0, 0.15);\n",
              "      filter: drop-shadow(0px 1px 2px rgba(0, 0, 0, 0.3));\n",
              "      fill: #FFFFFF;\n",
              "    }\n",
              "  </style>\n",
              "\n",
              "      <script>\n",
              "        const buttonEl =\n",
              "          document.querySelector('#df-a3a1e78b-ac09-4ab6-825e-464759a7f9dc button.colab-df-convert');\n",
              "        buttonEl.style.display =\n",
              "          google.colab.kernel.accessAllowed ? 'block' : 'none';\n",
              "\n",
              "        async function convertToInteractive(key) {\n",
              "          const element = document.querySelector('#df-a3a1e78b-ac09-4ab6-825e-464759a7f9dc');\n",
              "          const dataTable =\n",
              "            await google.colab.kernel.invokeFunction('convertToInteractive',\n",
              "                                                     [key], {});\n",
              "          if (!dataTable) return;\n",
              "\n",
              "          const docLinkHtml = 'Like what you see? Visit the ' +\n",
              "            '<a target=\"_blank\" href=https://colab.research.google.com/notebooks/data_table.ipynb>data table notebook</a>'\n",
              "            + ' to learn more about interactive tables.';\n",
              "          element.innerHTML = '';\n",
              "          dataTable['output_type'] = 'display_data';\n",
              "          await google.colab.output.renderOutput(dataTable, element);\n",
              "          const docLink = document.createElement('div');\n",
              "          docLink.innerHTML = docLinkHtml;\n",
              "          element.appendChild(docLink);\n",
              "        }\n",
              "      </script>\n",
              "    </div>\n",
              "  </div>\n",
              "  "
            ]
          },
          "metadata": {},
          "execution_count": 33
        }
      ]
    },
    {
      "cell_type": "markdown",
      "source": [
        "Use corr() function to find the correlation among the columns in the Dataframe using the ‘Pearson’ method. "
      ],
      "metadata": {
        "id": "IdK0jkMeCQwj"
      }
    },
    {
      "cell_type": "code",
      "source": [
        "### EXploratory Data Analysis\n",
        "## Correlation\n",
        "df1.corr(method='kendall')"
      ],
      "metadata": {
        "colab": {
          "base_uri": "https://localhost:8080/",
          "height": 458
        },
        "id": "qK7mNgoT95hU",
        "outputId": "298d7d69-3acd-4d6b-b4dc-012fe63b1e48"
      },
      "execution_count": null,
      "outputs": [
        {
          "output_type": "execute_result",
          "data": {
            "text/plain": [
              "                    vendor_id  passenger_count  store_and_fwd_flag  \\\n",
              "vendor_id            1.000000         0.229422           -0.077939   \n",
              "passenger_count      0.229422         1.000000           -0.015491   \n",
              "store_and_fwd_flag  -0.077939        -0.015491            1.000000   \n",
              "trip_duration        0.008156         0.020584            0.015836   \n",
              "pickup_day_no        0.000883         0.035196           -0.003978   \n",
              "dropoff_day_no       0.000928         0.035251           -0.003758   \n",
              "pickup_hour          0.008593         0.021152            0.002685   \n",
              "dropoff_hour         0.008748         0.020533            0.003319   \n",
              "pickup_month        -0.004278         0.002714           -0.001518   \n",
              "dropoff_month       -0.004270         0.002699           -0.001530   \n",
              "distance             0.004902         0.013368            0.016256   \n",
              "\n",
              "                    trip_duration  pickup_day_no  dropoff_day_no  pickup_hour  \\\n",
              "vendor_id                0.008156       0.000883        0.000928     0.008593   \n",
              "passenger_count          0.020584       0.035196        0.035251     0.021152   \n",
              "store_and_fwd_flag       0.015836      -0.003978       -0.003758     0.002685   \n",
              "trip_duration            1.000000      -0.021157       -0.020085     0.020725   \n",
              "pickup_day_no           -0.021157       1.000000        0.992737    -0.040801   \n",
              "dropoff_day_no          -0.020085       0.992737        1.000000    -0.038125   \n",
              "pickup_hour              0.020725      -0.040801       -0.038125     1.000000   \n",
              "dropoff_hour             0.022635      -0.044019       -0.046385     0.943844   \n",
              "pickup_month             0.037059      -0.011320       -0.010959    -0.000117   \n",
              "dropoff_month            0.037192      -0.011304       -0.010911     0.000081   \n",
              "distance                 0.606788       0.018392        0.019180     0.005239   \n",
              "\n",
              "                    dropoff_hour  pickup_month  dropoff_month  distance  \n",
              "vendor_id               0.008748     -0.004278      -0.004270  0.004902  \n",
              "passenger_count         0.020533      0.002714       0.002699  0.013368  \n",
              "store_and_fwd_flag      0.003319     -0.001518      -0.001530  0.016256  \n",
              "trip_duration           0.022635      0.037059       0.037192  0.606788  \n",
              "pickup_day_no          -0.044019     -0.011320      -0.011304  0.018392  \n",
              "dropoff_day_no         -0.046385     -0.010959      -0.010911  0.019180  \n",
              "pickup_hour             0.943844     -0.000117       0.000081  0.005239  \n",
              "dropoff_hour            1.000000     -0.000209      -0.000405  0.002242  \n",
              "pickup_month           -0.000209      1.000000       0.999866  0.016067  \n",
              "dropoff_month          -0.000405      0.999866       1.000000  0.016179  \n",
              "distance                0.002242      0.016067       0.016179  1.000000  "
            ],
            "text/html": [
              "\n",
              "  <div id=\"df-73adecb6-e0bd-4049-a6ce-20451fedac55\">\n",
              "    <div class=\"colab-df-container\">\n",
              "      <div>\n",
              "<style scoped>\n",
              "    .dataframe tbody tr th:only-of-type {\n",
              "        vertical-align: middle;\n",
              "    }\n",
              "\n",
              "    .dataframe tbody tr th {\n",
              "        vertical-align: top;\n",
              "    }\n",
              "\n",
              "    .dataframe thead th {\n",
              "        text-align: right;\n",
              "    }\n",
              "</style>\n",
              "<table border=\"1\" class=\"dataframe\">\n",
              "  <thead>\n",
              "    <tr style=\"text-align: right;\">\n",
              "      <th></th>\n",
              "      <th>vendor_id</th>\n",
              "      <th>passenger_count</th>\n",
              "      <th>store_and_fwd_flag</th>\n",
              "      <th>trip_duration</th>\n",
              "      <th>pickup_day_no</th>\n",
              "      <th>dropoff_day_no</th>\n",
              "      <th>pickup_hour</th>\n",
              "      <th>dropoff_hour</th>\n",
              "      <th>pickup_month</th>\n",
              "      <th>dropoff_month</th>\n",
              "      <th>distance</th>\n",
              "    </tr>\n",
              "  </thead>\n",
              "  <tbody>\n",
              "    <tr>\n",
              "      <th>vendor_id</th>\n",
              "      <td>1.000000</td>\n",
              "      <td>0.229422</td>\n",
              "      <td>-0.077939</td>\n",
              "      <td>0.008156</td>\n",
              "      <td>0.000883</td>\n",
              "      <td>0.000928</td>\n",
              "      <td>0.008593</td>\n",
              "      <td>0.008748</td>\n",
              "      <td>-0.004278</td>\n",
              "      <td>-0.004270</td>\n",
              "      <td>0.004902</td>\n",
              "    </tr>\n",
              "    <tr>\n",
              "      <th>passenger_count</th>\n",
              "      <td>0.229422</td>\n",
              "      <td>1.000000</td>\n",
              "      <td>-0.015491</td>\n",
              "      <td>0.020584</td>\n",
              "      <td>0.035196</td>\n",
              "      <td>0.035251</td>\n",
              "      <td>0.021152</td>\n",
              "      <td>0.020533</td>\n",
              "      <td>0.002714</td>\n",
              "      <td>0.002699</td>\n",
              "      <td>0.013368</td>\n",
              "    </tr>\n",
              "    <tr>\n",
              "      <th>store_and_fwd_flag</th>\n",
              "      <td>-0.077939</td>\n",
              "      <td>-0.015491</td>\n",
              "      <td>1.000000</td>\n",
              "      <td>0.015836</td>\n",
              "      <td>-0.003978</td>\n",
              "      <td>-0.003758</td>\n",
              "      <td>0.002685</td>\n",
              "      <td>0.003319</td>\n",
              "      <td>-0.001518</td>\n",
              "      <td>-0.001530</td>\n",
              "      <td>0.016256</td>\n",
              "    </tr>\n",
              "    <tr>\n",
              "      <th>trip_duration</th>\n",
              "      <td>0.008156</td>\n",
              "      <td>0.020584</td>\n",
              "      <td>0.015836</td>\n",
              "      <td>1.000000</td>\n",
              "      <td>-0.021157</td>\n",
              "      <td>-0.020085</td>\n",
              "      <td>0.020725</td>\n",
              "      <td>0.022635</td>\n",
              "      <td>0.037059</td>\n",
              "      <td>0.037192</td>\n",
              "      <td>0.606788</td>\n",
              "    </tr>\n",
              "    <tr>\n",
              "      <th>pickup_day_no</th>\n",
              "      <td>0.000883</td>\n",
              "      <td>0.035196</td>\n",
              "      <td>-0.003978</td>\n",
              "      <td>-0.021157</td>\n",
              "      <td>1.000000</td>\n",
              "      <td>0.992737</td>\n",
              "      <td>-0.040801</td>\n",
              "      <td>-0.044019</td>\n",
              "      <td>-0.011320</td>\n",
              "      <td>-0.011304</td>\n",
              "      <td>0.018392</td>\n",
              "    </tr>\n",
              "    <tr>\n",
              "      <th>dropoff_day_no</th>\n",
              "      <td>0.000928</td>\n",
              "      <td>0.035251</td>\n",
              "      <td>-0.003758</td>\n",
              "      <td>-0.020085</td>\n",
              "      <td>0.992737</td>\n",
              "      <td>1.000000</td>\n",
              "      <td>-0.038125</td>\n",
              "      <td>-0.046385</td>\n",
              "      <td>-0.010959</td>\n",
              "      <td>-0.010911</td>\n",
              "      <td>0.019180</td>\n",
              "    </tr>\n",
              "    <tr>\n",
              "      <th>pickup_hour</th>\n",
              "      <td>0.008593</td>\n",
              "      <td>0.021152</td>\n",
              "      <td>0.002685</td>\n",
              "      <td>0.020725</td>\n",
              "      <td>-0.040801</td>\n",
              "      <td>-0.038125</td>\n",
              "      <td>1.000000</td>\n",
              "      <td>0.943844</td>\n",
              "      <td>-0.000117</td>\n",
              "      <td>0.000081</td>\n",
              "      <td>0.005239</td>\n",
              "    </tr>\n",
              "    <tr>\n",
              "      <th>dropoff_hour</th>\n",
              "      <td>0.008748</td>\n",
              "      <td>0.020533</td>\n",
              "      <td>0.003319</td>\n",
              "      <td>0.022635</td>\n",
              "      <td>-0.044019</td>\n",
              "      <td>-0.046385</td>\n",
              "      <td>0.943844</td>\n",
              "      <td>1.000000</td>\n",
              "      <td>-0.000209</td>\n",
              "      <td>-0.000405</td>\n",
              "      <td>0.002242</td>\n",
              "    </tr>\n",
              "    <tr>\n",
              "      <th>pickup_month</th>\n",
              "      <td>-0.004278</td>\n",
              "      <td>0.002714</td>\n",
              "      <td>-0.001518</td>\n",
              "      <td>0.037059</td>\n",
              "      <td>-0.011320</td>\n",
              "      <td>-0.010959</td>\n",
              "      <td>-0.000117</td>\n",
              "      <td>-0.000209</td>\n",
              "      <td>1.000000</td>\n",
              "      <td>0.999866</td>\n",
              "      <td>0.016067</td>\n",
              "    </tr>\n",
              "    <tr>\n",
              "      <th>dropoff_month</th>\n",
              "      <td>-0.004270</td>\n",
              "      <td>0.002699</td>\n",
              "      <td>-0.001530</td>\n",
              "      <td>0.037192</td>\n",
              "      <td>-0.011304</td>\n",
              "      <td>-0.010911</td>\n",
              "      <td>0.000081</td>\n",
              "      <td>-0.000405</td>\n",
              "      <td>0.999866</td>\n",
              "      <td>1.000000</td>\n",
              "      <td>0.016179</td>\n",
              "    </tr>\n",
              "    <tr>\n",
              "      <th>distance</th>\n",
              "      <td>0.004902</td>\n",
              "      <td>0.013368</td>\n",
              "      <td>0.016256</td>\n",
              "      <td>0.606788</td>\n",
              "      <td>0.018392</td>\n",
              "      <td>0.019180</td>\n",
              "      <td>0.005239</td>\n",
              "      <td>0.002242</td>\n",
              "      <td>0.016067</td>\n",
              "      <td>0.016179</td>\n",
              "      <td>1.000000</td>\n",
              "    </tr>\n",
              "  </tbody>\n",
              "</table>\n",
              "</div>\n",
              "      <button class=\"colab-df-convert\" onclick=\"convertToInteractive('df-73adecb6-e0bd-4049-a6ce-20451fedac55')\"\n",
              "              title=\"Convert this dataframe to an interactive table.\"\n",
              "              style=\"display:none;\">\n",
              "        \n",
              "  <svg xmlns=\"http://www.w3.org/2000/svg\" height=\"24px\"viewBox=\"0 0 24 24\"\n",
              "       width=\"24px\">\n",
              "    <path d=\"M0 0h24v24H0V0z\" fill=\"none\"/>\n",
              "    <path d=\"M18.56 5.44l.94 2.06.94-2.06 2.06-.94-2.06-.94-.94-2.06-.94 2.06-2.06.94zm-11 1L8.5 8.5l.94-2.06 2.06-.94-2.06-.94L8.5 2.5l-.94 2.06-2.06.94zm10 10l.94 2.06.94-2.06 2.06-.94-2.06-.94-.94-2.06-.94 2.06-2.06.94z\"/><path d=\"M17.41 7.96l-1.37-1.37c-.4-.4-.92-.59-1.43-.59-.52 0-1.04.2-1.43.59L10.3 9.45l-7.72 7.72c-.78.78-.78 2.05 0 2.83L4 21.41c.39.39.9.59 1.41.59.51 0 1.02-.2 1.41-.59l7.78-7.78 2.81-2.81c.8-.78.8-2.07 0-2.86zM5.41 20L4 18.59l7.72-7.72 1.47 1.35L5.41 20z\"/>\n",
              "  </svg>\n",
              "      </button>\n",
              "      \n",
              "  <style>\n",
              "    .colab-df-container {\n",
              "      display:flex;\n",
              "      flex-wrap:wrap;\n",
              "      gap: 12px;\n",
              "    }\n",
              "\n",
              "    .colab-df-convert {\n",
              "      background-color: #E8F0FE;\n",
              "      border: none;\n",
              "      border-radius: 50%;\n",
              "      cursor: pointer;\n",
              "      display: none;\n",
              "      fill: #1967D2;\n",
              "      height: 32px;\n",
              "      padding: 0 0 0 0;\n",
              "      width: 32px;\n",
              "    }\n",
              "\n",
              "    .colab-df-convert:hover {\n",
              "      background-color: #E2EBFA;\n",
              "      box-shadow: 0px 1px 2px rgba(60, 64, 67, 0.3), 0px 1px 3px 1px rgba(60, 64, 67, 0.15);\n",
              "      fill: #174EA6;\n",
              "    }\n",
              "\n",
              "    [theme=dark] .colab-df-convert {\n",
              "      background-color: #3B4455;\n",
              "      fill: #D2E3FC;\n",
              "    }\n",
              "\n",
              "    [theme=dark] .colab-df-convert:hover {\n",
              "      background-color: #434B5C;\n",
              "      box-shadow: 0px 1px 3px 1px rgba(0, 0, 0, 0.15);\n",
              "      filter: drop-shadow(0px 1px 2px rgba(0, 0, 0, 0.3));\n",
              "      fill: #FFFFFF;\n",
              "    }\n",
              "  </style>\n",
              "\n",
              "      <script>\n",
              "        const buttonEl =\n",
              "          document.querySelector('#df-73adecb6-e0bd-4049-a6ce-20451fedac55 button.colab-df-convert');\n",
              "        buttonEl.style.display =\n",
              "          google.colab.kernel.accessAllowed ? 'block' : 'none';\n",
              "\n",
              "        async function convertToInteractive(key) {\n",
              "          const element = document.querySelector('#df-73adecb6-e0bd-4049-a6ce-20451fedac55');\n",
              "          const dataTable =\n",
              "            await google.colab.kernel.invokeFunction('convertToInteractive',\n",
              "                                                     [key], {});\n",
              "          if (!dataTable) return;\n",
              "\n",
              "          const docLinkHtml = 'Like what you see? Visit the ' +\n",
              "            '<a target=\"_blank\" href=https://colab.research.google.com/notebooks/data_table.ipynb>data table notebook</a>'\n",
              "            + ' to learn more about interactive tables.';\n",
              "          element.innerHTML = '';\n",
              "          dataTable['output_type'] = 'display_data';\n",
              "          await google.colab.output.renderOutput(dataTable, element);\n",
              "          const docLink = document.createElement('div');\n",
              "          docLink.innerHTML = docLinkHtml;\n",
              "          element.appendChild(docLink);\n",
              "        }\n",
              "      </script>\n",
              "    </div>\n",
              "  </div>\n",
              "  "
            ]
          },
          "metadata": {},
          "execution_count": 34
        }
      ]
    },
    {
      "cell_type": "code",
      "source": [
        "df.corr(method ='pearson')"
      ],
      "metadata": {
        "colab": {
          "base_uri": "https://localhost:8080/",
          "height": 615
        },
        "id": "Sm3oXv3-CrMT",
        "outputId": "9576f3f7-f754-4841-aedf-6d49b5ad9273"
      },
      "execution_count": null,
      "outputs": [
        {
          "output_type": "execute_result",
          "data": {
            "text/plain": [
              "                    vendor_id  passenger_count  pickup_longitude  \\\n",
              "vendor_id            1.000000         0.285948          0.015694   \n",
              "passenger_count      0.285948         1.000000          0.004495   \n",
              "pickup_longitude     0.015694         0.004495          1.000000   \n",
              "pickup_latitude      0.001093        -0.006530         -0.121290   \n",
              "dropoff_longitude    0.004969         0.000407          0.295980   \n",
              "dropoff_latitude     0.004014        -0.006382          0.059168   \n",
              "store_and_fwd_flag  -0.077939        -0.021028          0.021830   \n",
              "trip_duration        0.034725         0.013866          0.078530   \n",
              "pickup_day_no        0.000979         0.026640         -0.030397   \n",
              "dropoff_day_no       0.001024         0.026756         -0.031665   \n",
              "pickup_hour          0.010063         0.010019          0.021344   \n",
              "dropoff_hour         0.010134         0.009521          0.021062   \n",
              "pickup_month        -0.004841         0.000178          0.006444   \n",
              "dropoff_month       -0.004832         0.000154          0.006562   \n",
              "distance             0.010395         0.010626          0.502509   \n",
              "speed                0.002579        -0.005154          0.285086   \n",
              "\n",
              "                    pickup_latitude  dropoff_longitude  dropoff_latitude  \\\n",
              "vendor_id                  0.001093           0.004969          0.004014   \n",
              "passenger_count           -0.006530           0.000407         -0.006382   \n",
              "pickup_longitude          -0.121290           0.295980          0.059168   \n",
              "pickup_latitude            1.000000           0.073775          0.437961   \n",
              "dropoff_longitude          0.073775           1.000000          0.142260   \n",
              "dropoff_latitude           0.437961           0.142260          1.000000   \n",
              "store_and_fwd_flag        -0.012198           0.019285         -0.013459   \n",
              "trip_duration             -0.055968           0.050072         -0.043215   \n",
              "pickup_day_no             -0.033435          -0.001679         -0.024258   \n",
              "dropoff_day_no            -0.033629          -0.001917         -0.025036   \n",
              "pickup_hour                0.012667          -0.040031          0.014900   \n",
              "dropoff_hour               0.021374          -0.042527          0.019770   \n",
              "pickup_month              -0.001477           0.009636         -0.001439   \n",
              "dropoff_month             -0.001558           0.009736         -0.001496   \n",
              "distance                  -0.311856           0.347471         -0.160588   \n",
              "speed                     -0.116140           0.269567          0.013199   \n",
              "\n",
              "                    store_and_fwd_flag  trip_duration  pickup_day_no  \\\n",
              "vendor_id                    -0.077939       0.034725       0.000979   \n",
              "passenger_count              -0.021028       0.013866       0.026640   \n",
              "pickup_longitude              0.021830       0.078530      -0.030397   \n",
              "pickup_latitude              -0.012198      -0.055968      -0.033435   \n",
              "dropoff_longitude             0.019285       0.050072      -0.001679   \n",
              "dropoff_latitude             -0.013459      -0.043215      -0.024258   \n",
              "store_and_fwd_flag            1.000000       0.003753      -0.004461   \n",
              "trip_duration                 0.003753       1.000000      -0.003434   \n",
              "pickup_day_no                -0.004461      -0.003434       1.000000   \n",
              "dropoff_day_no               -0.004208      -0.005462       0.993839   \n",
              "pickup_hour                   0.004291       0.007024      -0.079334   \n",
              "dropoff_hour                  0.004930       0.004612      -0.083043   \n",
              "pickup_month                 -0.001723       0.012756      -0.014947   \n",
              "dropoff_month                -0.001739       0.013919      -0.014924   \n",
              "distance                      0.032635       0.173329       0.006177   \n",
              "speed                         0.010796      -0.049747       0.063916   \n",
              "\n",
              "                    dropoff_day_no  pickup_hour  dropoff_hour  pickup_month  \\\n",
              "vendor_id                 0.001024     0.010063      0.010134     -0.004841   \n",
              "passenger_count           0.026756     0.010019      0.009521      0.000178   \n",
              "pickup_longitude         -0.031665     0.021344      0.021062      0.006444   \n",
              "pickup_latitude          -0.033629     0.012667      0.021374     -0.001477   \n",
              "dropoff_longitude        -0.001917    -0.040031     -0.042527      0.009636   \n",
              "dropoff_latitude         -0.025036     0.014900      0.019770     -0.001439   \n",
              "store_and_fwd_flag       -0.004208     0.004291      0.004930     -0.001723   \n",
              "trip_duration            -0.005462     0.007024      0.004612      0.012756   \n",
              "pickup_day_no             0.993839    -0.079334     -0.083043     -0.014947   \n",
              "dropoff_day_no            1.000000    -0.075948     -0.087025     -0.014486   \n",
              "pickup_hour              -0.075948     1.000000      0.934703     -0.001411   \n",
              "dropoff_hour             -0.087025     0.934703      1.000000     -0.001842   \n",
              "pickup_month             -0.014486    -0.001411     -0.001842      1.000000   \n",
              "dropoff_month            -0.014418    -0.001147     -0.002209      0.999935   \n",
              "distance                  0.006606    -0.015915     -0.021835      0.018386   \n",
              "speed                     0.063137    -0.101083     -0.114517     -0.029734   \n",
              "\n",
              "                    dropoff_month  distance     speed  \n",
              "vendor_id               -0.004832  0.010395  0.002579  \n",
              "passenger_count          0.000154  0.010626 -0.005154  \n",
              "pickup_longitude         0.006562  0.502509  0.285086  \n",
              "pickup_latitude         -0.001558 -0.311856 -0.116140  \n",
              "dropoff_longitude        0.009736  0.347471  0.269567  \n",
              "dropoff_latitude        -0.001496 -0.160588  0.013199  \n",
              "store_and_fwd_flag      -0.001739  0.032635  0.010796  \n",
              "trip_duration            0.013919  0.173329 -0.049747  \n",
              "pickup_day_no           -0.014924  0.006177  0.063916  \n",
              "dropoff_day_no          -0.014418  0.006606  0.063137  \n",
              "pickup_hour             -0.001147 -0.015915 -0.101083  \n",
              "dropoff_hour            -0.002209 -0.021835 -0.114517  \n",
              "pickup_month             0.999935  0.018386 -0.029734  \n",
              "dropoff_month            1.000000  0.018604 -0.029704  \n",
              "distance                 0.018604  1.000000  0.560181  \n",
              "speed                   -0.029704  0.560181  1.000000  "
            ],
            "text/html": [
              "\n",
              "  <div id=\"df-64809a8a-5472-4f35-a6db-cbe6d4347506\">\n",
              "    <div class=\"colab-df-container\">\n",
              "      <div>\n",
              "<style scoped>\n",
              "    .dataframe tbody tr th:only-of-type {\n",
              "        vertical-align: middle;\n",
              "    }\n",
              "\n",
              "    .dataframe tbody tr th {\n",
              "        vertical-align: top;\n",
              "    }\n",
              "\n",
              "    .dataframe thead th {\n",
              "        text-align: right;\n",
              "    }\n",
              "</style>\n",
              "<table border=\"1\" class=\"dataframe\">\n",
              "  <thead>\n",
              "    <tr style=\"text-align: right;\">\n",
              "      <th></th>\n",
              "      <th>vendor_id</th>\n",
              "      <th>passenger_count</th>\n",
              "      <th>pickup_longitude</th>\n",
              "      <th>pickup_latitude</th>\n",
              "      <th>dropoff_longitude</th>\n",
              "      <th>dropoff_latitude</th>\n",
              "      <th>store_and_fwd_flag</th>\n",
              "      <th>trip_duration</th>\n",
              "      <th>pickup_day_no</th>\n",
              "      <th>dropoff_day_no</th>\n",
              "      <th>pickup_hour</th>\n",
              "      <th>dropoff_hour</th>\n",
              "      <th>pickup_month</th>\n",
              "      <th>dropoff_month</th>\n",
              "      <th>distance</th>\n",
              "      <th>speed</th>\n",
              "    </tr>\n",
              "  </thead>\n",
              "  <tbody>\n",
              "    <tr>\n",
              "      <th>vendor_id</th>\n",
              "      <td>1.000000</td>\n",
              "      <td>0.285948</td>\n",
              "      <td>0.015694</td>\n",
              "      <td>0.001093</td>\n",
              "      <td>0.004969</td>\n",
              "      <td>0.004014</td>\n",
              "      <td>-0.077939</td>\n",
              "      <td>0.034725</td>\n",
              "      <td>0.000979</td>\n",
              "      <td>0.001024</td>\n",
              "      <td>0.010063</td>\n",
              "      <td>0.010134</td>\n",
              "      <td>-0.004841</td>\n",
              "      <td>-0.004832</td>\n",
              "      <td>0.010395</td>\n",
              "      <td>0.002579</td>\n",
              "    </tr>\n",
              "    <tr>\n",
              "      <th>passenger_count</th>\n",
              "      <td>0.285948</td>\n",
              "      <td>1.000000</td>\n",
              "      <td>0.004495</td>\n",
              "      <td>-0.006530</td>\n",
              "      <td>0.000407</td>\n",
              "      <td>-0.006382</td>\n",
              "      <td>-0.021028</td>\n",
              "      <td>0.013866</td>\n",
              "      <td>0.026640</td>\n",
              "      <td>0.026756</td>\n",
              "      <td>0.010019</td>\n",
              "      <td>0.009521</td>\n",
              "      <td>0.000178</td>\n",
              "      <td>0.000154</td>\n",
              "      <td>0.010626</td>\n",
              "      <td>-0.005154</td>\n",
              "    </tr>\n",
              "    <tr>\n",
              "      <th>pickup_longitude</th>\n",
              "      <td>0.015694</td>\n",
              "      <td>0.004495</td>\n",
              "      <td>1.000000</td>\n",
              "      <td>-0.121290</td>\n",
              "      <td>0.295980</td>\n",
              "      <td>0.059168</td>\n",
              "      <td>0.021830</td>\n",
              "      <td>0.078530</td>\n",
              "      <td>-0.030397</td>\n",
              "      <td>-0.031665</td>\n",
              "      <td>0.021344</td>\n",
              "      <td>0.021062</td>\n",
              "      <td>0.006444</td>\n",
              "      <td>0.006562</td>\n",
              "      <td>0.502509</td>\n",
              "      <td>0.285086</td>\n",
              "    </tr>\n",
              "    <tr>\n",
              "      <th>pickup_latitude</th>\n",
              "      <td>0.001093</td>\n",
              "      <td>-0.006530</td>\n",
              "      <td>-0.121290</td>\n",
              "      <td>1.000000</td>\n",
              "      <td>0.073775</td>\n",
              "      <td>0.437961</td>\n",
              "      <td>-0.012198</td>\n",
              "      <td>-0.055968</td>\n",
              "      <td>-0.033435</td>\n",
              "      <td>-0.033629</td>\n",
              "      <td>0.012667</td>\n",
              "      <td>0.021374</td>\n",
              "      <td>-0.001477</td>\n",
              "      <td>-0.001558</td>\n",
              "      <td>-0.311856</td>\n",
              "      <td>-0.116140</td>\n",
              "    </tr>\n",
              "    <tr>\n",
              "      <th>dropoff_longitude</th>\n",
              "      <td>0.004969</td>\n",
              "      <td>0.000407</td>\n",
              "      <td>0.295980</td>\n",
              "      <td>0.073775</td>\n",
              "      <td>1.000000</td>\n",
              "      <td>0.142260</td>\n",
              "      <td>0.019285</td>\n",
              "      <td>0.050072</td>\n",
              "      <td>-0.001679</td>\n",
              "      <td>-0.001917</td>\n",
              "      <td>-0.040031</td>\n",
              "      <td>-0.042527</td>\n",
              "      <td>0.009636</td>\n",
              "      <td>0.009736</td>\n",
              "      <td>0.347471</td>\n",
              "      <td>0.269567</td>\n",
              "    </tr>\n",
              "    <tr>\n",
              "      <th>dropoff_latitude</th>\n",
              "      <td>0.004014</td>\n",
              "      <td>-0.006382</td>\n",
              "      <td>0.059168</td>\n",
              "      <td>0.437961</td>\n",
              "      <td>0.142260</td>\n",
              "      <td>1.000000</td>\n",
              "      <td>-0.013459</td>\n",
              "      <td>-0.043215</td>\n",
              "      <td>-0.024258</td>\n",
              "      <td>-0.025036</td>\n",
              "      <td>0.014900</td>\n",
              "      <td>0.019770</td>\n",
              "      <td>-0.001439</td>\n",
              "      <td>-0.001496</td>\n",
              "      <td>-0.160588</td>\n",
              "      <td>0.013199</td>\n",
              "    </tr>\n",
              "    <tr>\n",
              "      <th>store_and_fwd_flag</th>\n",
              "      <td>-0.077939</td>\n",
              "      <td>-0.021028</td>\n",
              "      <td>0.021830</td>\n",
              "      <td>-0.012198</td>\n",
              "      <td>0.019285</td>\n",
              "      <td>-0.013459</td>\n",
              "      <td>1.000000</td>\n",
              "      <td>0.003753</td>\n",
              "      <td>-0.004461</td>\n",
              "      <td>-0.004208</td>\n",
              "      <td>0.004291</td>\n",
              "      <td>0.004930</td>\n",
              "      <td>-0.001723</td>\n",
              "      <td>-0.001739</td>\n",
              "      <td>0.032635</td>\n",
              "      <td>0.010796</td>\n",
              "    </tr>\n",
              "    <tr>\n",
              "      <th>trip_duration</th>\n",
              "      <td>0.034725</td>\n",
              "      <td>0.013866</td>\n",
              "      <td>0.078530</td>\n",
              "      <td>-0.055968</td>\n",
              "      <td>0.050072</td>\n",
              "      <td>-0.043215</td>\n",
              "      <td>0.003753</td>\n",
              "      <td>1.000000</td>\n",
              "      <td>-0.003434</td>\n",
              "      <td>-0.005462</td>\n",
              "      <td>0.007024</td>\n",
              "      <td>0.004612</td>\n",
              "      <td>0.012756</td>\n",
              "      <td>0.013919</td>\n",
              "      <td>0.173329</td>\n",
              "      <td>-0.049747</td>\n",
              "    </tr>\n",
              "    <tr>\n",
              "      <th>pickup_day_no</th>\n",
              "      <td>0.000979</td>\n",
              "      <td>0.026640</td>\n",
              "      <td>-0.030397</td>\n",
              "      <td>-0.033435</td>\n",
              "      <td>-0.001679</td>\n",
              "      <td>-0.024258</td>\n",
              "      <td>-0.004461</td>\n",
              "      <td>-0.003434</td>\n",
              "      <td>1.000000</td>\n",
              "      <td>0.993839</td>\n",
              "      <td>-0.079334</td>\n",
              "      <td>-0.083043</td>\n",
              "      <td>-0.014947</td>\n",
              "      <td>-0.014924</td>\n",
              "      <td>0.006177</td>\n",
              "      <td>0.063916</td>\n",
              "    </tr>\n",
              "    <tr>\n",
              "      <th>dropoff_day_no</th>\n",
              "      <td>0.001024</td>\n",
              "      <td>0.026756</td>\n",
              "      <td>-0.031665</td>\n",
              "      <td>-0.033629</td>\n",
              "      <td>-0.001917</td>\n",
              "      <td>-0.025036</td>\n",
              "      <td>-0.004208</td>\n",
              "      <td>-0.005462</td>\n",
              "      <td>0.993839</td>\n",
              "      <td>1.000000</td>\n",
              "      <td>-0.075948</td>\n",
              "      <td>-0.087025</td>\n",
              "      <td>-0.014486</td>\n",
              "      <td>-0.014418</td>\n",
              "      <td>0.006606</td>\n",
              "      <td>0.063137</td>\n",
              "    </tr>\n",
              "    <tr>\n",
              "      <th>pickup_hour</th>\n",
              "      <td>0.010063</td>\n",
              "      <td>0.010019</td>\n",
              "      <td>0.021344</td>\n",
              "      <td>0.012667</td>\n",
              "      <td>-0.040031</td>\n",
              "      <td>0.014900</td>\n",
              "      <td>0.004291</td>\n",
              "      <td>0.007024</td>\n",
              "      <td>-0.079334</td>\n",
              "      <td>-0.075948</td>\n",
              "      <td>1.000000</td>\n",
              "      <td>0.934703</td>\n",
              "      <td>-0.001411</td>\n",
              "      <td>-0.001147</td>\n",
              "      <td>-0.015915</td>\n",
              "      <td>-0.101083</td>\n",
              "    </tr>\n",
              "    <tr>\n",
              "      <th>dropoff_hour</th>\n",
              "      <td>0.010134</td>\n",
              "      <td>0.009521</td>\n",
              "      <td>0.021062</td>\n",
              "      <td>0.021374</td>\n",
              "      <td>-0.042527</td>\n",
              "      <td>0.019770</td>\n",
              "      <td>0.004930</td>\n",
              "      <td>0.004612</td>\n",
              "      <td>-0.083043</td>\n",
              "      <td>-0.087025</td>\n",
              "      <td>0.934703</td>\n",
              "      <td>1.000000</td>\n",
              "      <td>-0.001842</td>\n",
              "      <td>-0.002209</td>\n",
              "      <td>-0.021835</td>\n",
              "      <td>-0.114517</td>\n",
              "    </tr>\n",
              "    <tr>\n",
              "      <th>pickup_month</th>\n",
              "      <td>-0.004841</td>\n",
              "      <td>0.000178</td>\n",
              "      <td>0.006444</td>\n",
              "      <td>-0.001477</td>\n",
              "      <td>0.009636</td>\n",
              "      <td>-0.001439</td>\n",
              "      <td>-0.001723</td>\n",
              "      <td>0.012756</td>\n",
              "      <td>-0.014947</td>\n",
              "      <td>-0.014486</td>\n",
              "      <td>-0.001411</td>\n",
              "      <td>-0.001842</td>\n",
              "      <td>1.000000</td>\n",
              "      <td>0.999935</td>\n",
              "      <td>0.018386</td>\n",
              "      <td>-0.029734</td>\n",
              "    </tr>\n",
              "    <tr>\n",
              "      <th>dropoff_month</th>\n",
              "      <td>-0.004832</td>\n",
              "      <td>0.000154</td>\n",
              "      <td>0.006562</td>\n",
              "      <td>-0.001558</td>\n",
              "      <td>0.009736</td>\n",
              "      <td>-0.001496</td>\n",
              "      <td>-0.001739</td>\n",
              "      <td>0.013919</td>\n",
              "      <td>-0.014924</td>\n",
              "      <td>-0.014418</td>\n",
              "      <td>-0.001147</td>\n",
              "      <td>-0.002209</td>\n",
              "      <td>0.999935</td>\n",
              "      <td>1.000000</td>\n",
              "      <td>0.018604</td>\n",
              "      <td>-0.029704</td>\n",
              "    </tr>\n",
              "    <tr>\n",
              "      <th>distance</th>\n",
              "      <td>0.010395</td>\n",
              "      <td>0.010626</td>\n",
              "      <td>0.502509</td>\n",
              "      <td>-0.311856</td>\n",
              "      <td>0.347471</td>\n",
              "      <td>-0.160588</td>\n",
              "      <td>0.032635</td>\n",
              "      <td>0.173329</td>\n",
              "      <td>0.006177</td>\n",
              "      <td>0.006606</td>\n",
              "      <td>-0.015915</td>\n",
              "      <td>-0.021835</td>\n",
              "      <td>0.018386</td>\n",
              "      <td>0.018604</td>\n",
              "      <td>1.000000</td>\n",
              "      <td>0.560181</td>\n",
              "    </tr>\n",
              "    <tr>\n",
              "      <th>speed</th>\n",
              "      <td>0.002579</td>\n",
              "      <td>-0.005154</td>\n",
              "      <td>0.285086</td>\n",
              "      <td>-0.116140</td>\n",
              "      <td>0.269567</td>\n",
              "      <td>0.013199</td>\n",
              "      <td>0.010796</td>\n",
              "      <td>-0.049747</td>\n",
              "      <td>0.063916</td>\n",
              "      <td>0.063137</td>\n",
              "      <td>-0.101083</td>\n",
              "      <td>-0.114517</td>\n",
              "      <td>-0.029734</td>\n",
              "      <td>-0.029704</td>\n",
              "      <td>0.560181</td>\n",
              "      <td>1.000000</td>\n",
              "    </tr>\n",
              "  </tbody>\n",
              "</table>\n",
              "</div>\n",
              "      <button class=\"colab-df-convert\" onclick=\"convertToInteractive('df-64809a8a-5472-4f35-a6db-cbe6d4347506')\"\n",
              "              title=\"Convert this dataframe to an interactive table.\"\n",
              "              style=\"display:none;\">\n",
              "        \n",
              "  <svg xmlns=\"http://www.w3.org/2000/svg\" height=\"24px\"viewBox=\"0 0 24 24\"\n",
              "       width=\"24px\">\n",
              "    <path d=\"M0 0h24v24H0V0z\" fill=\"none\"/>\n",
              "    <path d=\"M18.56 5.44l.94 2.06.94-2.06 2.06-.94-2.06-.94-.94-2.06-.94 2.06-2.06.94zm-11 1L8.5 8.5l.94-2.06 2.06-.94-2.06-.94L8.5 2.5l-.94 2.06-2.06.94zm10 10l.94 2.06.94-2.06 2.06-.94-2.06-.94-.94-2.06-.94 2.06-2.06.94z\"/><path d=\"M17.41 7.96l-1.37-1.37c-.4-.4-.92-.59-1.43-.59-.52 0-1.04.2-1.43.59L10.3 9.45l-7.72 7.72c-.78.78-.78 2.05 0 2.83L4 21.41c.39.39.9.59 1.41.59.51 0 1.02-.2 1.41-.59l7.78-7.78 2.81-2.81c.8-.78.8-2.07 0-2.86zM5.41 20L4 18.59l7.72-7.72 1.47 1.35L5.41 20z\"/>\n",
              "  </svg>\n",
              "      </button>\n",
              "      \n",
              "  <style>\n",
              "    .colab-df-container {\n",
              "      display:flex;\n",
              "      flex-wrap:wrap;\n",
              "      gap: 12px;\n",
              "    }\n",
              "\n",
              "    .colab-df-convert {\n",
              "      background-color: #E8F0FE;\n",
              "      border: none;\n",
              "      border-radius: 50%;\n",
              "      cursor: pointer;\n",
              "      display: none;\n",
              "      fill: #1967D2;\n",
              "      height: 32px;\n",
              "      padding: 0 0 0 0;\n",
              "      width: 32px;\n",
              "    }\n",
              "\n",
              "    .colab-df-convert:hover {\n",
              "      background-color: #E2EBFA;\n",
              "      box-shadow: 0px 1px 2px rgba(60, 64, 67, 0.3), 0px 1px 3px 1px rgba(60, 64, 67, 0.15);\n",
              "      fill: #174EA6;\n",
              "    }\n",
              "\n",
              "    [theme=dark] .colab-df-convert {\n",
              "      background-color: #3B4455;\n",
              "      fill: #D2E3FC;\n",
              "    }\n",
              "\n",
              "    [theme=dark] .colab-df-convert:hover {\n",
              "      background-color: #434B5C;\n",
              "      box-shadow: 0px 1px 3px 1px rgba(0, 0, 0, 0.15);\n",
              "      filter: drop-shadow(0px 1px 2px rgba(0, 0, 0, 0.3));\n",
              "      fill: #FFFFFF;\n",
              "    }\n",
              "  </style>\n",
              "\n",
              "      <script>\n",
              "        const buttonEl =\n",
              "          document.querySelector('#df-64809a8a-5472-4f35-a6db-cbe6d4347506 button.colab-df-convert');\n",
              "        buttonEl.style.display =\n",
              "          google.colab.kernel.accessAllowed ? 'block' : 'none';\n",
              "\n",
              "        async function convertToInteractive(key) {\n",
              "          const element = document.querySelector('#df-64809a8a-5472-4f35-a6db-cbe6d4347506');\n",
              "          const dataTable =\n",
              "            await google.colab.kernel.invokeFunction('convertToInteractive',\n",
              "                                                     [key], {});\n",
              "          if (!dataTable) return;\n",
              "\n",
              "          const docLinkHtml = 'Like what you see? Visit the ' +\n",
              "            '<a target=\"_blank\" href=https://colab.research.google.com/notebooks/data_table.ipynb>data table notebook</a>'\n",
              "            + ' to learn more about interactive tables.';\n",
              "          element.innerHTML = '';\n",
              "          dataTable['output_type'] = 'display_data';\n",
              "          await google.colab.output.renderOutput(dataTable, element);\n",
              "          const docLink = document.createElement('div');\n",
              "          docLink.innerHTML = docLinkHtml;\n",
              "          element.appendChild(docLink);\n",
              "        }\n",
              "      </script>\n",
              "    </div>\n",
              "  </div>\n",
              "  "
            ]
          },
          "metadata": {},
          "execution_count": 35
        }
      ]
    },
    {
      "cell_type": "code",
      "source": [
        "dfCorr = df.corr()\n",
        "filteredDf = dfCorr[((dfCorr >= .5) | (dfCorr <= -.5))]\n",
        "#filteredDf = dfCorr[((dfCorr >= .9) | (dfCorr <= -.9)) | (dfCorr !=1.000)]\n",
        "plt.figure(figsize=(30,10))\n",
        "sns.heatmap(filteredDf, annot=True, cmap=\"Greens\")\n",
        "plt.show()"
      ],
      "metadata": {
        "colab": {
          "base_uri": "https://localhost:8080/"
        },
        "id": "vDgbwFJRFc63",
        "outputId": "df343bab-8314-4528-d40f-e29c8febe4b9"
      },
      "execution_count": null,
      "outputs": [
        {
          "output_type": "display_data",
          "data": {
            "text/plain": [
              "<Figure size 2160x720 with 2 Axes>"
            ],
            "image/png": "[encoded data removed]"
          },
          "metadata": {
            "needs_background": "light"
          }
        }
      ]
    },
    {
      "cell_type": "code",
      "source": [
        "#Take Time\n",
        "\n",
        "#import seaborn as sns\n",
        "#sns.pairplot(df)"
      ],
      "metadata": {
        "id": "aGNSa7qYE9vy"
      },
      "execution_count": null,
      "outputs": []
    },
    {
      "cell_type": "markdown",
      "source": [
        "Evaluation is always good in any field right! In the case of machine learning, it is best the practice. In this post, I will almost cover all the popular as well as common metrics used for machine learning.\n",
        "\n",
        "Confusion Matrix\n",
        "Classification Accuracy.\n",
        "Logarithmic loss.\n",
        "Area under Curve.\n",
        "F1 score.\n",
        "Mean Absolute Error.\n",
        "Mean Squared Error."
      ],
      "metadata": {
        "id": "gGOBPVvZnQjI"
      }
    },
    {
      "cell_type": "code",
      "source": [
        "#IQR\n",
        "#Calculating IQR for Trip Duration\n",
        "\n",
        "Q1 = df1['trip_duration'].quantile(0.25)\n",
        "Q3 = df1['trip_duration'].quantile(0.75)\n",
        "IQR = Q3 - Q1\n",
        "print(IQR)"
      ],
      "metadata": {
        "colab": {
          "base_uri": "https://localhost:8080/"
        },
        "id": "J6r2mTJDWcgg",
        "outputId": "97f1c42d-1be7-4517-b7c4-00800e0f9a35"
      },
      "execution_count": null,
      "outputs": [
        {
          "output_type": "stream",
          "name": "stdout",
          "text": [
            "678.0\n"
          ]
        }
      ]
    },
    {
      "cell_type": "code",
      "source": [
        "# Split\n",
        "# Create matrix of features\n",
        "X = df1[['vendor_id', 'passenger_count', 'pickup_longitude',\n",
        "       'pickup_latitude', 'dropoff_longitude', 'dropoff_latitude',\n",
        "       'store_and_fwd_flag']] # double brackets! #pickup_weekday = weekday\n",
        "\n",
        "# Create array of target variable \n",
        "y = df1['trip_duration']\n",
        "\n",
        "# Create train and test sets\n",
        "from sklearn.model_selection import train_test_split\n",
        "X_train, X_test, y_train, y_test = train_test_split(X, y, test_size = 0.2, random_state = 0)"
      ],
      "metadata": {
        "id": "FDRKjOquXi2d",
        "colab": {
          "base_uri": "https://localhost:8080/",
          "height": 380
        },
        "outputId": "82db3ca1-cc51-45dc-d330-2f2e3ec06089"
      },
      "execution_count": null,
      "outputs": [
        {
          "output_type": "error",
          "ename": "KeyError",
          "evalue": "ignored",
          "traceback": [
            "\u001b[0;31m---------------------------------------------------------------------------\u001b[0m",
            "\u001b[0;31mKeyError\u001b[0m                                  Traceback (most recent call last)",
            "\u001b[0;32m<ipython-input-39-81d860fdc27e>\u001b[0m in \u001b[0;36m<module>\u001b[0;34m\u001b[0m\n\u001b[1;32m      3\u001b[0m X = df1[['vendor_id', 'passenger_count', 'pickup_longitude',\n\u001b[1;32m      4\u001b[0m        \u001b[0;34m'pickup_latitude'\u001b[0m\u001b[0;34m,\u001b[0m \u001b[0;34m'dropoff_longitude'\u001b[0m\u001b[0;34m,\u001b[0m \u001b[0;34m'dropoff_latitude'\u001b[0m\u001b[0;34m,\u001b[0m\u001b[0;34m\u001b[0m\u001b[0;34m\u001b[0m\u001b[0m\n\u001b[0;32m----> 5\u001b[0;31m        'store_and_fwd_flag']] # double brackets! #pickup_weekday = weekday\n\u001b[0m\u001b[1;32m      6\u001b[0m \u001b[0;34m\u001b[0m\u001b[0m\n\u001b[1;32m      7\u001b[0m \u001b[0;31m# Create array of target variable\u001b[0m\u001b[0;34m\u001b[0m\u001b[0;34m\u001b[0m\u001b[0;34m\u001b[0m\u001b[0m\n",
            "\u001b[0;32m/usr/local/lib/python3.7/dist-packages/pandas/core/frame.py\u001b[0m in \u001b[0;36m__getitem__\u001b[0;34m(self, key)\u001b[0m\n\u001b[1;32m   3462\u001b[0m             \u001b[0;32mif\u001b[0m \u001b[0mis_iterator\u001b[0m\u001b[0;34m(\u001b[0m\u001b[0mkey\u001b[0m\u001b[0;34m)\u001b[0m\u001b[0;34m:\u001b[0m\u001b[0;34m\u001b[0m\u001b[0;34m\u001b[0m\u001b[0m\n\u001b[1;32m   3463\u001b[0m                 \u001b[0mkey\u001b[0m \u001b[0;34m=\u001b[0m \u001b[0mlist\u001b[0m\u001b[0;34m(\u001b[0m\u001b[0mkey\u001b[0m\u001b[0;34m)\u001b[0m\u001b[0;34m\u001b[0m\u001b[0;34m\u001b[0m\u001b[0m\n\u001b[0;32m-> 3464\u001b[0;31m             \u001b[0mindexer\u001b[0m \u001b[0;34m=\u001b[0m \u001b[0mself\u001b[0m\u001b[0;34m.\u001b[0m\u001b[0mloc\u001b[0m\u001b[0;34m.\u001b[0m\u001b[0m_get_listlike_indexer\u001b[0m\u001b[0;34m(\u001b[0m\u001b[0mkey\u001b[0m\u001b[0;34m,\u001b[0m \u001b[0maxis\u001b[0m\u001b[0;34m=\u001b[0m\u001b[0;36m1\u001b[0m\u001b[0;34m)\u001b[0m\u001b[0;34m[\u001b[0m\u001b[0;36m1\u001b[0m\u001b[0;34m]\u001b[0m\u001b[0;34m\u001b[0m\u001b[0;34m\u001b[0m\u001b[0m\n\u001b[0m\u001b[1;32m   3465\u001b[0m \u001b[0;34m\u001b[0m\u001b[0m\n\u001b[1;32m   3466\u001b[0m         \u001b[0;31m# take() does not accept boolean indexers\u001b[0m\u001b[0;34m\u001b[0m\u001b[0;34m\u001b[0m\u001b[0;34m\u001b[0m\u001b[0m\n",
            "\u001b[0;32m/usr/local/lib/python3.7/dist-packages/pandas/core/indexing.py\u001b[0m in \u001b[0;36m_get_listlike_indexer\u001b[0;34m(self, key, axis)\u001b[0m\n\u001b[1;32m   1312\u001b[0m             \u001b[0mkeyarr\u001b[0m\u001b[0;34m,\u001b[0m \u001b[0mindexer\u001b[0m\u001b[0;34m,\u001b[0m \u001b[0mnew_indexer\u001b[0m \u001b[0;34m=\u001b[0m \u001b[0max\u001b[0m\u001b[0;34m.\u001b[0m\u001b[0m_reindex_non_unique\u001b[0m\u001b[0;34m(\u001b[0m\u001b[0mkeyarr\u001b[0m\u001b[0;34m)\u001b[0m\u001b[0;34m\u001b[0m\u001b[0;34m\u001b[0m\u001b[0m\n\u001b[1;32m   1313\u001b[0m \u001b[0;34m\u001b[0m\u001b[0m\n\u001b[0;32m-> 1314\u001b[0;31m         \u001b[0mself\u001b[0m\u001b[0;34m.\u001b[0m\u001b[0m_validate_read_indexer\u001b[0m\u001b[0;34m(\u001b[0m\u001b[0mkeyarr\u001b[0m\u001b[0;34m,\u001b[0m \u001b[0mindexer\u001b[0m\u001b[0;34m,\u001b[0m \u001b[0maxis\u001b[0m\u001b[0;34m)\u001b[0m\u001b[0;34m\u001b[0m\u001b[0;34m\u001b[0m\u001b[0m\n\u001b[0m\u001b[1;32m   1315\u001b[0m \u001b[0;34m\u001b[0m\u001b[0m\n\u001b[1;32m   1316\u001b[0m         if needs_i8_conversion(ax.dtype) or isinstance(\n",
            "\u001b[0;32m/usr/local/lib/python3.7/dist-packages/pandas/core/indexing.py\u001b[0m in \u001b[0;36m_validate_read_indexer\u001b[0;34m(self, key, indexer, axis)\u001b[0m\n\u001b[1;32m   1375\u001b[0m \u001b[0;34m\u001b[0m\u001b[0m\n\u001b[1;32m   1376\u001b[0m             \u001b[0mnot_found\u001b[0m \u001b[0;34m=\u001b[0m \u001b[0mlist\u001b[0m\u001b[0;34m(\u001b[0m\u001b[0mensure_index\u001b[0m\u001b[0;34m(\u001b[0m\u001b[0mkey\u001b[0m\u001b[0;34m)\u001b[0m\u001b[0;34m[\u001b[0m\u001b[0mmissing_mask\u001b[0m\u001b[0;34m.\u001b[0m\u001b[0mnonzero\u001b[0m\u001b[0;34m(\u001b[0m\u001b[0;34m)\u001b[0m\u001b[0;34m[\u001b[0m\u001b[0;36m0\u001b[0m\u001b[0;34m]\u001b[0m\u001b[0;34m]\u001b[0m\u001b[0;34m.\u001b[0m\u001b[0munique\u001b[0m\u001b[0;34m(\u001b[0m\u001b[0;34m)\u001b[0m\u001b[0;34m)\u001b[0m\u001b[0;34m\u001b[0m\u001b[0;34m\u001b[0m\u001b[0m\n\u001b[0;32m-> 1377\u001b[0;31m             \u001b[0;32mraise\u001b[0m \u001b[0mKeyError\u001b[0m\u001b[0;34m(\u001b[0m\u001b[0;34mf\"{not_found} not in index\"\u001b[0m\u001b[0;34m)\u001b[0m\u001b[0;34m\u001b[0m\u001b[0;34m\u001b[0m\u001b[0m\n\u001b[0m\u001b[1;32m   1378\u001b[0m \u001b[0;34m\u001b[0m\u001b[0m\n\u001b[1;32m   1379\u001b[0m \u001b[0;34m\u001b[0m\u001b[0m\n",
            "\u001b[0;31mKeyError\u001b[0m: \"['pickup_longitude', 'pickup_latitude', 'dropoff_longitude', 'dropoff_latitude'] not in index\""
          ]
        }
      ]
    },
    {
      "cell_type": "markdown",
      "source": [
        "Linear Regression"
      ],
      "metadata": {
        "id": "HyPeP9ZjX1IZ"
      }
    },
    {
      "cell_type": "code",
      "source": [
        "#  Import model\n",
        "from sklearn.linear_model import LinearRegression\n",
        "\n",
        "#  Instantiate model object\n",
        "lreg = LinearRegression()\n",
        "\n",
        "# Fit to training data\n",
        "lreg.fit(X_train,y_train)\n",
        "print(lreg)\n",
        "\n",
        "# Predict\n",
        "y_pred_lreg = lreg.predict(X_test)\n",
        "\n",
        "# Score It\n",
        "from sklearn import metrics\n",
        "print('\\nLinear Regression Performance Metrics')\n",
        "print('R^2=',metrics.explained_variance_score(y_test,y_pred_lreg))\n",
        "print('MAE:',metrics.mean_absolute_error(y_test,y_pred_lreg))\n",
        "print('MSE:',metrics.mean_squared_error(y_test,y_pred_lreg))\n",
        "print('RMSE:',np.sqrt(metrics.mean_squared_error(y_test,y_pred_lreg)))"
      ],
      "metadata": {
        "id": "kr4sncgdXpTi"
      },
      "execution_count": null,
      "outputs": []
    },
    {
      "cell_type": "markdown",
      "source": [
        "Decision Tree"
      ],
      "metadata": {
        "id": "nnax2Ul9Xxxh"
      }
    },
    {
      "cell_type": "code",
      "source": [
        "# Fit\n",
        "# Import model\n",
        "from sklearn.tree import DecisionTreeRegressor\n",
        "\n",
        "# Instantiate model object\n",
        "dtree = DecisionTreeRegressor()\n",
        "\n",
        "# Fit to training data\n",
        "dtree.fit(X_train,y_train)\n",
        "print(dtree)\n",
        "\n",
        "# Predict\n",
        "y_pred_dtree = dtree.predict(X_test)\n",
        "\n",
        "# Score It\n",
        "from sklearn import metrics\n",
        "print('\\nDecision Tree Regression Performance Metrics')\n",
        "print('R^2=',metrics.explained_variance_score(y_test,y_pred_dtree))\n",
        "print('MAE:',metrics.mean_absolute_error(y_test,y_pred_dtree))\n",
        "print('MSE:',metrics.mean_squared_error(y_test,y_pred_dtree))\n",
        "print('RMSE:',np.sqrt(metrics.mean_squared_error(y_test,y_pred_dtree)))"
      ],
      "metadata": {
        "id": "ZVXShFGjXtYl"
      },
      "execution_count": null,
      "outputs": []
    },
    {
      "cell_type": "markdown",
      "source": [
        "Random Forest"
      ],
      "metadata": {
        "id": "enX3hd5gX4WG"
      }
    },
    {
      "cell_type": "code",
      "source": [
        "# Fit \n",
        "# Import model\n",
        "from sklearn.ensemble import RandomForestRegressor \n",
        "\n",
        "# Instantiate model object\n",
        "rforest = RandomForestRegressor(n_estimators = 20, n_jobs = -1)\n",
        "\n",
        "# Fit to training data\n",
        "rforest = rforest.fit(X_train,y_train)\n",
        "print(rforest)\n",
        "\n",
        "# Predict\n",
        "y_pred_rforest = rforest.predict(X_test)\n",
        "\n",
        "# Score It\n",
        "from sklearn import metrics\n",
        "print('\\nRandom Forest Regression Performance Metrics')\n",
        "print('R^2 =',metrics.explained_variance_score(y_test,y_pred_rforest))\n",
        "print('MAE',metrics.mean_absolute_error(y_test, y_pred_rforest))\n",
        "print('MSE',metrics.mean_squared_error(y_test, y_pred_rforest))\n",
        "print('RMSE',np.sqrt(metrics.mean_squared_error(y_test, y_pred_rforest)))"
      ],
      "metadata": {
        "id": "k-bsTgmLX9zc"
      },
      "execution_count": null,
      "outputs": []
    },
    {
      "cell_type": "markdown",
      "source": [
        "KNN"
      ],
      "metadata": {
        "id": "9-6Om7nqtCT6"
      }
    },
    {
      "cell_type": "markdown",
      "source": [
        "Standardize the Variables"
      ],
      "metadata": {
        "id": "Op_ZB0R3v_NG"
      }
    },
    {
      "cell_type": "code",
      "source": [
        "df1.columns"
      ],
      "metadata": {
        "id": "8i82YTcDwKLY"
      },
      "execution_count": null,
      "outputs": []
    },
    {
      "cell_type": "code",
      "source": [
        "df1.info()"
      ],
      "metadata": {
        "id": "qE0aeUzkxLuj"
      },
      "execution_count": null,
      "outputs": []
    },
    {
      "cell_type": "code",
      "source": [
        "df1[\"trip_duration\"] = pd.to_numeric(df[\"trip_duration\"], downcast=\"float\")\n",
        "\n",
        "df1[\"vendor_id\"] = pd.to_numeric(df[\"vendor_id\"], downcast=\"float\")\n",
        "df1[\"passenger_count\"] = pd.to_numeric(df[\"passenger_count\"], downcast=\"float\")\n",
        "df1[\"store_and_fwd_flagt\"] = pd.to_numeric(df[\"store_and_fwd_flag\"], downcast=\"float\")\n",
        "\n",
        "df1[\"trip_duration\"] = pd.to_numeric(df[\"trip_duration\"], downcast=\"float\")\n",
        "df1[\"pickup_day_no\"] = pd.to_numeric(df[\"pickup_day_no\"], downcast=\"float\")\n",
        "df1[\"pickup_hour\"] = pd.to_numeric(df[\"pickup_hour\"], downcast=\"float\")\n",
        "df1[\"dropoff_hour\"] = pd.to_numeric(df[\"dropoff_hour\"], downcast=\"float\")\n",
        "\n",
        "df1[\"pickup_month\"] = pd.to_numeric(df[\"pickup_month\"], downcast=\"float\")\n",
        "df1[\"dropoff_month\"] = pd.to_numeric(df[\"dropoff_month\"], downcast=\"float\")\n",
        "\n",
        "print(df1.dtypes)"
      ],
      "metadata": {
        "id": "I2Zb3Ok60XUF"
      },
      "execution_count": null,
      "outputs": []
    },
    {
      "cell_type": "code",
      "source": [
        "df1.columns"
      ],
      "metadata": {
        "id": "T0TKY-7e9EEN"
      },
      "execution_count": null,
      "outputs": []
    },
    {
      "cell_type": "code",
      "source": [
        "df1.drop(['vendor_id', 'passenger_count', 'pickup_longitude', 'pickup_latitude',\n",
        "       'dropoff_longitude', 'dropoff_latitude', 'store_and_fwd_flag',\n",
        "         'dropoff_day_no', 'pickup_hour',\n",
        "        'pickup_month',\n",
        "       'store_and_fwd_flagt' ], axis = 1, inplace = True)"
      ],
      "metadata": {
        "id": "VjhFATZO14pw"
      },
      "execution_count": null,
      "outputs": []
    },
    {
      "cell_type": "code",
      "source": [
        "from sklearn.preprocessing import StandardScaler\n",
        "scaler = StandardScaler()\n",
        "scaler.fit(df1.drop('trip_duration',axis=1))\n",
        "StandardScaler(copy=True, with_mean=True, with_std=True)\n",
        "scaled_features = scaler.transform(df1.drop('trip_duration',axis=1))\n",
        "df_feat = pd.DataFrame(scaled_features,columns=df1.columns[:-1])\n",
        "df_feat.head()"
      ],
      "metadata": {
        "id": "zDjYPtU3wGQo"
      },
      "execution_count": null,
      "outputs": []
    },
    {
      "cell_type": "code",
      "source": [
        "\n",
        "### EXploratory Data Analysis\n",
        "## Correlation\n",
        "df1.corr()"
      ],
      "metadata": {
        "id": "p-br-YPg9ge1"
      },
      "execution_count": null,
      "outputs": []
    },
    {
      "cell_type": "code",
      "source": [
        "import seaborn as sns\n",
        "sns.pairplot(df1)"
      ],
      "metadata": {
        "id": "lQnoNBPi9p40"
      },
      "execution_count": null,
      "outputs": []
    },
    {
      "cell_type": "markdown",
      "source": [
        "Because the KNN classifier predicts the class of a given test observation by identifying the observations that are nearest to it, the scale of the variables matters. Any variables that are on a large scale will have a much larger effect on the distance between the observations, and hence on the KNN classifier, than variables that are on a small scale."
      ],
      "metadata": {
        "id": "HAidPgwSwBSS"
      }
    },
    {
      "cell_type": "markdown",
      "source": [
        "Using KNN\n",
        "Remember that we are trying to come up with a model to predict whether someone will TARGET CLASS or not. We'll start with k=1."
      ],
      "metadata": {
        "id": "JmwNZSif2RwZ"
      }
    },
    {
      "cell_type": "code",
      "source": [
        "from sklearn.neighbors import KNeighborsClassifier\n",
        "knn = KNeighborsClassifier(n_neighbors=1)\n",
        "knn.fit(X_train,y_train)"
      ],
      "metadata": {
        "id": "KWhmUTa-2S-6"
      },
      "execution_count": null,
      "outputs": []
    },
    {
      "cell_type": "code",
      "source": [
        "pred = knn.predict(X_test)"
      ],
      "metadata": {
        "id": "XT-9TG0X2aH8"
      },
      "execution_count": null,
      "outputs": []
    },
    {
      "cell_type": "markdown",
      "source": [
        "PREDICTION AND EVALUATION"
      ],
      "metadata": {
        "id": "kunJ0k3U2gyr"
      }
    },
    {
      "cell_type": "code",
      "source": [
        "from sklearn.metrics import classification_report,confusion_matrix\n",
        "print(confusion_matrix(y_test,pred))"
      ],
      "metadata": {
        "id": "VXTOfy4Q2n71"
      },
      "execution_count": null,
      "outputs": []
    },
    {
      "cell_type": "code",
      "source": [
        "print(classification_report(y_test,pred))"
      ],
      "metadata": {
        "id": "vjKxC0cr2t0y"
      },
      "execution_count": null,
      "outputs": []
    },
    {
      "cell_type": "markdown",
      "source": [
        "Choosing a K Value"
      ],
      "metadata": {
        "id": "CCL3C2XE23gq"
      }
    },
    {
      "cell_type": "markdown",
      "source": [
        "Let's go ahead and use the elbow method to pick a good K Value:"
      ],
      "metadata": {
        "id": "mp3lNH2P3EQe"
      }
    },
    {
      "cell_type": "code",
      "source": [
        "'''error_rate = []\n",
        "\n",
        "# Will take some time\n",
        "for i in range(1,40):\n",
        "    \n",
        "    knn = KNeighborsClassifier(n_neighbors=i)\n",
        "    knn.fit(X_train,y_train)\n",
        "    pred_i = knn.predict(X_test)\n",
        "    error_rate.append(np.mean(pred_i != y_test))'''"
      ],
      "metadata": {
        "id": "rePBKp8_24iy"
      },
      "execution_count": null,
      "outputs": []
    },
    {
      "cell_type": "code",
      "source": [
        "'''plt.figure(figsize=(10,6))\n",
        "plt.plot(range(1,40),error_rate,color='blue', linestyle='dashed', marker='o',\n",
        "         markerfacecolor='red', markersize=10)\n",
        "plt.title('Error Rate vs. K Value')\n",
        "plt.xlabel('K')\n",
        "plt.ylabel('Error Rate')'''"
      ],
      "metadata": {
        "id": "xX9QrLvG3ILm"
      },
      "execution_count": null,
      "outputs": []
    },
    {
      "cell_type": "markdown",
      "source": [
        "plt.figure(figsize=(10,6))\n",
        "plt.plot(range(1,40),error_rate,color='blue', linestyle='dashed', marker='o',\n",
        "         markerfacecolor='red', markersize=10)\n",
        "plt.title('Error Rate vs. K Value')\n",
        "plt.xlabel('K')\n",
        "plt.ylabel('Error Rate')"
      ],
      "metadata": {
        "id": "RLu0zg-03YKV"
      }
    },
    {
      "cell_type": "code",
      "source": [
        "'''# FIRST A QUICK COMPARISON TO OUR ORIGINAL K=1\n",
        "knn = KNeighborsClassifier(n_neighbors=1)\n",
        "\n",
        "knn.fit(X_train,y_train)\n",
        "pred = knn.predict(X_test)\n",
        "\n",
        "print('WITH K=1')\n",
        "print('\\n')\n",
        "print(confusion_matrix(y_test,pred))\n",
        "print('\\n')\n",
        "print(classification_report(y_test,pred))'''"
      ],
      "metadata": {
        "id": "qu8o8IrD3Zjd"
      },
      "execution_count": null,
      "outputs": []
    },
    {
      "cell_type": "code",
      "source": [
        "# NOW WITH K=23\n",
        "'''knn = KNeighborsClassifier(n_neighbors=23)\n",
        "\n",
        "knn.fit(X_train,y_train)\n",
        "pred = knn.predict(X_test)\n",
        "\n",
        "print('WITH K=23')\n",
        "print('\\n')\n",
        "print(confusion_matrix(y_test,pred))\n",
        "print('\\n')\n",
        "print(classification_report(y_test,pred))'''"
      ],
      "metadata": {
        "id": "MK0KvQXY3b7N"
      },
      "execution_count": null,
      "outputs": []
    },
    {
      "cell_type": "code",
      "source": [
        "#X, y = make_blobs(n_samples = 500, n_features = 2, centers = 4,cluster_std = 1.5, random_state = 42)"
      ],
      "metadata": {
        "id": "9xVumonkZifn"
      },
      "execution_count": null,
      "outputs": []
    },
    {
      "cell_type": "code",
      "source": [
        "#plt.style.use('seaborn')\n",
        "#plt.figure(figsize = (10,10))\n",
        "#plt.scatter(X[:,0], X[:,1], c=y, marker= '*',s=100,edgecolors='black')\n",
        "#plt.show()"
      ],
      "metadata": {
        "id": "nqcgC8FbZmrO"
      },
      "execution_count": null,
      "outputs": []
    },
    {
      "cell_type": "code",
      "source": [
        "#X_train, X_test, y_train, y_test = train_test_split(X, y, random_state = 42)"
      ],
      "metadata": {
        "id": "NFglYKJcZpE_"
      },
      "execution_count": null,
      "outputs": []
    },
    {
      "cell_type": "code",
      "source": [
        "#knn4 = KNeighborsClassifier(n_neighbors= 4)\n",
        "#knn3 = KNeighborsClassifier(n_neighbors= 3)\n",
        "#knn2 = KNeighborsClassifier(n_neighbors= 2)"
      ],
      "metadata": {
        "id": "CKVnkDT4ZsB_"
      },
      "execution_count": null,
      "outputs": []
    },
    {
      "cell_type": "code",
      "source": [
        "#knn4.fit(X_train, y_train)\n",
        "#knn3.fit(X_train, y_train)\n",
        "#knn2.fit(X_train, y_train)\n",
        "\n",
        "#y_pred_4 = knn4.predict(X_test)\n",
        "#y_pred_3 = knn3.predict(X_test)\n",
        "#y_pred_2 = knn2.predict(X_test)"
      ],
      "metadata": {
        "id": "-iVqIcFAZuDR"
      },
      "execution_count": null,
      "outputs": []
    },
    {
      "cell_type": "code",
      "source": [
        "#from sklearn.metrics import accuracy_score\n",
        "#print(\"Accuracy with k=4\", accuracy_score(y_test, y_pred_4)*100)\n",
        "#print(\"Accuracy with k=3\", accuracy_score(y_test, y_pred_3)*100)\n",
        "#print(\"Accuracy with k=2\", accuracy_score(y_test, y_pred_2)*100)"
      ],
      "metadata": {
        "id": "njJ0UToFZwdx"
      },
      "execution_count": null,
      "outputs": []
    },
    {
      "cell_type": "code",
      "source": [],
      "metadata": {
        "id": "YTrI-DxTfjMy"
      },
      "execution_count": null,
      "outputs": []
    }
  ]
}